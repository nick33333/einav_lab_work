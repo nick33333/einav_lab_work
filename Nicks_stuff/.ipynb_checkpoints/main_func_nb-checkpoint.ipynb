{
 "cells": [
  {
   "cell_type": "code",
   "execution_count": 257,
   "id": "b9a76e26",
   "metadata": {
    "ExecuteTime": {
     "end_time": "2023-10-02T05:19:21.631641Z",
     "start_time": "2023-10-02T05:19:20.452931Z"
    },
    "cell_style": "center"
   },
   "outputs": [],
   "source": [
    "import numpy as np\n",
    "import pandas as pd\n",
    "from sklearn.ensemble import RandomForestRegressor\n",
    "from sklearn.tree import DecisionTreeRegressor\n",
    "\n",
    "def RF_complete(data_t: \"df\", data_s_list: \"list(df)\", feature_t, n_tree=50, n_feature=5, f_sample=0.3, n_best_tree=5):\n",
    "    '''\n",
    "    TODO:\n",
    "    - data_s_list might be a list of dataframes... Not just a list corresponding to one thing\n",
    "    '''\n",
    "    K = len(data_s_list) # Number of datasets given for training\n",
    "    print(f\"{K} additional datasets used for prediction.\")\n",
    "\n",
    "    if feature_t not in data_t.columns:\n",
    "        print(\"Feature-of-interest not found in data_t! Please check column names of input data.\")\n",
    "        return None\n",
    "    else:\n",
    "        print(\"Feature-of-interest located!\")\n",
    "\n",
    "    mu = []\n",
    "    sigma = []\n",
    "\n",
    "    for k in range(0, K): # Iteratingg over data_s_list\n",
    "        data_assist = data_s_list[k] #.iloc[k-1] # Indexing is in terms of rows\n",
    "        # Locate feature of interest in training dataset k of K\n",
    "        if feature_t in data_assist.columns:\n",
    "            f_t_ind = list(data_assist.columns).index(feature_t) # Finds col/index of current sera that matches virus of interest\n",
    "        else:\n",
    "            print(f\"feature_t not found in assisting data {k}!\")\n",
    "            continue\n",
    "        # Check for feature match\n",
    "#         if not data_t.columns.equals(data_assist.columns): # MISTAKE!!! -> Solved?\n",
    "        if sum(data_t.columns != data_assist.columns) > 0: # Check for any non overlapping viruses between training dataset and prediction data\n",
    "            print(f\"Features not matched for assisting data {k}! Skipped to next data.\")\n",
    "            continue\n",
    "        # Transferability function\n",
    "        trans_true_err = []\n",
    "        trans_pred_err = []\n",
    "        print(f\"data_assist shape: {data_assist.shape}\")\n",
    "        print(f\"Iterating over {data_assist.shape[1]}\")\n",
    "        # Iterate over dataset columns\n",
    "        for j in range(0, data_assist.shape[1]): # Iterate over rows of training data\n",
    "            feature_trans = data_assist.columns[j]\n",
    "#             if not data_t.iloc[:, j].isna().sum() > 0: # Check this for mistake\n",
    "            if data_t.iloc[:, j].notna().sum() > 0:\n",
    "                rf_1t1 = RF_complete_1t1(data_assist, data_t, feature_t=feature_trans, n_tree=n_tree,\n",
    "                                         n_feature=n_feature, f_sample=f_sample, k=k)\n",
    "\n",
    "                if rf_1t1 is not None: # Check to see that rf_1t1 is a val and not None or a bool\n",
    "                    trans_true_err.extend(rf_1t1[\"true_err\"])\n",
    "                    trans_pred_err.extend(rf_1t1[\"pred_err\"])\n",
    "\n",
    "        if len(trans_true_err) == 0:\n",
    "            continue\n",
    "        else: # ooh tough cookie\n",
    "            print(\"Doing lm stuff\")\n",
    "            lm_coeff = np.polyfit(trans_pred_err, trans_true_err, 1)\n",
    "            a = lm_coeff[0]\n",
    "            b = lm_coeff[1]\n",
    "            c = np.sqrt(np.mean((a * np.array(trans_pred_err) + b - np.array(trans_true_err)) ** 2))\n",
    "\n",
    "            def f_transfer(x, a, b, c):\n",
    "                return max(x, a * x + b + c)\n",
    "\n",
    "            print([f\"a={round(a, 3)}\", f\"b={round(b, 3)}\", f\"c={round(c, 3)}\"])\n",
    "\n",
    "            rf_1t1 = RF_complete_1t1(data_assist, data_t, feature_t=feature_t, n_best_tree=n_best_tree, n_tree=n_tree,\n",
    "                                     n_feature=n_feature, f_sample=f_sample, k=k)\n",
    "            print(f\"rf_1t1: {rf_1t1}\")\n",
    "            mu.append(rf_1t1[\"mu\"])\n",
    "            sigma.append(f_transfer(np.mean(rf_1t1[\"pred_err\"]), a, b, c))\n",
    "    print(\"mu\", mu) # Somethings up with computation of mu\n",
    "    print(\"sigma\", sigma)\n",
    "    A = 0\n",
    "    B = 0\n",
    "    tt = 0\n",
    "    print(f\"len sigma: {len(sigma)}\")\n",
    "    print(sigma)\n",
    "    print(f\"K: {K}\")\n",
    "    for k in range(K):\n",
    "        print(f\"k: {k}\")\n",
    "        if sigma[k] is not None:\n",
    "            tt += 1\n",
    "            A += mu[k] / sigma[k] ** 2\n",
    "            B += 1 / sigma[k] ** 2\n",
    "\n",
    "    print(f\"{tt} assisting data used for prediction.\")\n",
    "    return {\"predictions\": A / B, \"errors\": 1 / np.sqrt(B)}\n",
    "\n",
    "def RF_complete_1t1(data_assist, data_t, feature_t, n_tree=50, n_feature=5, f_sample=0.3, n_best_tree=5, k=1):\n",
    "    if feature_t in data_assist.columns:\n",
    "#         f_t_ind = data_assist.index.get_loc(feature_t)\n",
    "        f_t_ind = list(data_assist.columns).index(feature_t)\n",
    "    else:\n",
    "        print(f\"feature_t not found in assisting data {k}!\")\n",
    "        return None\n",
    "    # IM WORKING ON THIS ... REFERS TO VIRUSES I THINK, NOT SERA. Yeah R code mentions finding feasible features\n",
    "#     if (data_assist.apply(lambda x: x.count(), axis=0) / data_assist.shape[0] > 0.8).sum() > n_feature:\n",
    "#         f_ind = data_assist.index[\n",
    "#             (data_assist.apply(lambda x: x.count(), axis=0) / data_assist.shape[0] > 0.8)].tolist()\n",
    "    if (data_assist.apply(lambda x: x.count(), axis=0) / data_assist.shape[0] > 0.8).sum() > n_feature:\n",
    "        # f_ind should be a list of columns/viruses\n",
    "        f_ind = list(data_assist.columns[(data_assist.apply(lambda x: x.count(), axis=0) / data_assist.shape[0] > 0.8).tolist()])\n",
    "        if feature_t in f_ind:\n",
    "            f_ind.remove(feature_t)\n",
    "    else:\n",
    "        print(f\"n_feature too large for assisting data {k}! Skipped to next data.\")\n",
    "        return None\n",
    "    # Left off here\n",
    "    f_tmp_ind = [data_t.columns.get_loc(f) for f in f_ind if f in data_t.columns]\n",
    "    f_feasible = [f for f in data_t.columns[f_tmp_ind] if data_t[f].count() > 2]\n",
    "    f_ind = [i for i in f_ind if i in f_feasible]\n",
    "    f_ind = [f_ind[idx] for idx in range(len(f_ind)) if f_ind[idx] == f_feasible[idx]] # Added cuz the r code has this after f.feasible asgn\n",
    "    if len(f_feasible) < 2:\n",
    "        print(f\"n_feature too large for assisting data {k}! Skipped to next data.\")\n",
    "        return None\n",
    "\n",
    "    data_assist = data_assist.dropna(subset=[feature_t])\n",
    "    print(\"feature_t check 0\", feature_t)\n",
    "    RMSE = []\n",
    "    f_sel_ind = []\n",
    "    tree = []\n",
    "#     print(\"feature_t check 1\", feature_t)\n",
    "    for i in range(n_tree):\n",
    "        f_sel_ind.append(np.random.choice(f_ind, n_feature, replace=True))\n",
    "        sample_sel = np.random.choice(data_assist.shape[0], int(data_assist.shape[0] * f_sample), replace=True)\n",
    "        # LAST ERROR: Indexing like this might be better:\n",
    "        # data_assist.iloc[sample_sel][np.append(f_sel_ind[i],feature_t)]\n",
    "        # We want to include the column of f_t_ind into our data_train\n",
    "#         data_train = data_assist.iloc[sample_sel, f_sel_ind[i] + [f_t_ind]]\n",
    "        data_train = data_assist.iloc[sample_sel][np.append(f_sel_ind[i],feature_t)]\n",
    "#         print(\"feature_t check 2\", feature_t)\n",
    "        colm_t = data_train.apply(lambda x: x.mean(), axis=1)\n",
    "        data_train = data_train - np.outer(np.ones(data_train.shape[1]), colm_t).T\n",
    "        data_train.columns = np.append(f_sel_ind[i], \"target\")\n",
    "        ###get decision tree and RMSE\n",
    "        # import xgboost as xgb\n",
    "        # Fit the model to the data (handles missing values)\n",
    "        # tree.append(xgb.XGBRegressor(max_depth=5, min_child_weight=5))\n",
    "        # tree[i].fit(data_train.iloc[:, :-1], data_train[\"target\"]) # Sometimes runs into nan somehow... ACTUALLY just for the outdated version of sklearn, new is fine\n",
    "        tree.append(DecisionTreeRegressor(min_samples_split=5))\n",
    "        tree[i].fit(data_train.iloc[:, :-1], data_train[\"target\"])\n",
    "        # Compile testing dataset\n",
    "        data_test = data_assist.drop([data_assist.index[idx] for idx in sample_sel], axis=0)[np.append(f_sel_ind[i], feature_t)]\n",
    "        colm_t = data_test.apply(lambda x: x.mean(), axis=1)\n",
    "        data_test = data_test - np.outer(np.ones(data_test.shape[1]), colm_t).T\n",
    "\n",
    "        pred_t = tree[i].predict(data_test.iloc[:, :-1])\n",
    "        RMSE.append(np.sqrt(np.mean((pred_t - data_test[feature_t]) ** 2)))\n",
    "#         print(\"feature_t check 3\", feature_t)\n",
    "        \n",
    "    ###predict in the target dataset\n",
    "    pred_list = np.zeros((data_t.shape[0], n_best_tree))\n",
    "#     print(\"RMSE\", RMSE)\n",
    "#     print(\"argsort\", np.argsort(RMSE))\n",
    "    for i in range(n_best_tree):\n",
    "        j = np.argsort(RMSE)\n",
    "#         f_t_ind = data_t.columns.get_loc(feature_t)\n",
    "#         print(\"f_sel_ind\",f_sel_ind)\n",
    "#         print(\"f_sel_ind[j[i]]]\", f_sel_ind[j[i]])\n",
    "        f_t_sel_ind = f_sel_ind[j[i]]\n",
    "#         f_t_sel_ind = [data_t.columns.get_loc(f) for f in f_sel_ind[j[i]]]\n",
    "#         print(\"f_t_sel_ind\", f_t_sel_ind)\n",
    "#         print(\"f_t_ind\", f_t_ind, \"feature_t\", feature_t)\n",
    "#         data_test = data_t.iloc[:, np.append(f_t_sel_ind, feature_t)]\n",
    "        data_test = data_t[np.append(f_t_sel_ind, feature_t)]\n",
    "#         data_test = data_t.iloc[:, np.append(f_t_sel_ind, f_t_ind)]\n",
    "#         data_test = data_t.iloc[:, f_t_sel_ind + [f_t_ind]]\n",
    "        colm_t = data_test.apply(lambda x: x.mean(), axis=1)\n",
    "#         print(\"ones shape\", np.ones(data_test.shape[1]).shape)\n",
    "#         print(\"colm_t shape\", colm_t)\n",
    "#         print(\"feature_t\", feature_t)\n",
    "#         print(\"selected cols\", np.append(f_t_sel_ind, feature_t))\n",
    "#         print(\"data_test\", data_test)\n",
    "#         print(\"np.outer(np.ones(data_test.shape[1]), colm_t).T\", np.outer(np.ones(data_test.shape[1]), colm_t).T)\n",
    "        data_test = data_test - np.outer(np.ones(data_test.shape[1]), colm_t).T\n",
    "#         print(\"data_test\", data_test)\n",
    "        data_test.columns = np.append(data_test.columns[:-1], \"target\")\n",
    "#         print(\"new columns\", data_test.columns)\n",
    "#         data_test.columns = f_sel_ind[j[i]] + [\"target\"] # hmmm...\n",
    "#         print(\"j\", j)\n",
    "#         print('j[i]', i, j[i])\n",
    "#         print(list(data_test.columns))\n",
    "#         print(data_test)\n",
    "        pred_t = tree[j[i]].predict(data_test.iloc[:, :-1])\n",
    "#         print(\"pred_t\",pred_t)\n",
    "        pred_t[np.where(data_test.iloc[:, :-1].isna().sum(axis=1) > 0)] = np.nan\n",
    "        pred_list[:,i]=pred_t\n",
    "\n",
    "\n",
    "    # Obtain predictions and errors\n",
    "#     print(pred_list.shape)\n",
    "    true_err = np.sqrt(np.nanmean((pred_list - data_test['target'].values.reshape(-1, 1))**2, axis=0)) # Changed from axis  1 to 0 for taking mean :-/\n",
    "#     print(true_err)\n",
    "    argSortedRMSE = [RMSE[idx] for idx in np.argsort(RMSE)]\n",
    "    pred_err = argSortedRMSE[:n_best_tree]\n",
    "#     print(n_best_tree, type(n_best_tree))\n",
    "#     print('np.ones(1, n_best_tree) shape', np.ones((1, n_best_tree)).shape)\n",
    "#     print('colm_t shape', colm_t.shape)\n",
    "    pred_list = pred_list + np.outer(np.ones((1, n_best_tree)), colm_t).T\n",
    "#     pred_list = pred_list + t(rep(1, n_best_tree) %*% t(colm.t))\n",
    "    mu = np.nanmean(pred_list, axis=1)\n",
    "    return {'mu': mu, 'true_err': true_err, 'pred_err': pred_err}\n"
   ]
  },
  {
   "cell_type": "code",
   "execution_count": 258,
   "id": "0d9ac907",
   "metadata": {},
   "outputs": [],
   "source": [
    "import numpy as np\n",
    "import pandas as pd\n",
    "import seaborn as sns\n",
    "import sklearn"
   ]
  },
  {
   "cell_type": "code",
   "execution_count": 259,
   "id": "9383044d",
   "metadata": {},
   "outputs": [],
   "source": [
    "def non_trivialize_df(df):\n",
    "    # Search columns for trivial feature (virus)\n",
    "    dropped = 0\n",
    "    for idx, col in enumerate(df.columns):\n",
    "        uniques = df[col].unique()\n",
    "        num_unique = len(uniques)\n",
    "        if num_unique == 1 and 'sera_table' not in col and \"*\" in uniques: # Critereon for a missing virus\n",
    "#             print(idx, col, num_unique, uniques)\n",
    "            df = df.drop(columns=col)\n",
    "            dropped += 1 # Count dropped virus\n",
    "    # Search rows for trivial entry (serum)\n",
    "    for idx in list(df.index):\n",
    "        num_unique = len(df.loc[idx].unique())\n",
    "        if num_unique == 3: # Serum name and table name are 2 constant features.\n",
    "#             print(idx, num_unique)\n",
    "            df = df.drop(index=idx)\n",
    "    df = df.replace(\"*\", np.nan)\n",
    "    df = df.set_index('Measurements (Sera in Rows/Viruses in Columns)')\n",
    "    df = df.drop(['sera_table'], axis=1)\n",
    "    df = df.applymap(lambda x: pd.to_numeric(x, errors='coerce') ) # Might wanna just do df.map\n",
    "    # Return data and number of dropped viruses\n",
    "    return df, dropped\n",
    "\n",
    "\n",
    "def plot_heatmap(df):\n",
    "    mask = df.isnull()\n",
    "    g = sns.heatmap(df, cmap='gray',mask=mask)\n",
    "    g.set_facecolor('xkcd:salmon')\n",
    "    return g\n",
    "\n",
    "\n",
    "def plot_heatmap_subplot(table_dict):\n",
    "#     keys = sorted(list(table_dict.keys()))\n",
    "    keys = [\"TableS1\", \"TableS3\", \"TableS5\", \"TableS6\", \"TableS13\", \"TableS14\"]\n",
    "    N = len(keys)\n",
    "    fig, axs = plt.subplots(nrows=1, ncols=N, figsize=(30, 5))\n",
    "    for idx, key in enumerate(keys):\n",
    "        df, dropped_viruses = table_dict[key]\n",
    "        percent_missing = sum(list(df.isna().sum())) / (df.shape[0] * df.shape[1]) # Proportion of missing vals in table\n",
    "        df = np.log10(df)\n",
    "        sera_num = df.shape[0]\n",
    "        virus_num = df.shape[1]\n",
    "        mask = df.isnull()\n",
    "        g = sns.heatmap(df,\n",
    "                        xticklabels=False,\n",
    "                        yticklabels=False,\n",
    "                        cmap='gray',\n",
    "                        mask=mask,\n",
    "                        ax=axs[idx])\n",
    "        g.set_facecolor('xkcd:salmon')\n",
    "        axs[idx].set_xlabel(f'{sera_num} Sera x {virus_num} Viruses\\n{percent_missing * 100:.2f}% Missing')\n",
    "        axs[idx].set_title(key)\n",
    "    return fig, axs"
   ]
  },
  {
   "cell_type": "code",
   "execution_count": 260,
   "id": "61e9d5f7",
   "metadata": {},
   "outputs": [
    {
     "name": "stderr",
     "output_type": "stream",
     "text": [
      "/var/folders/q6/5c5n0y556yndkylpbylqpymc0000gn/T/ipykernel_27200/760941675.py:20: FutureWarning: DataFrame.applymap has been deprecated. Use DataFrame.map instead.\n",
      "  df = df.applymap(lambda x: pd.to_numeric(x, errors='coerce') ) # Might wanna just do df.map\n",
      "/var/folders/q6/5c5n0y556yndkylpbylqpymc0000gn/T/ipykernel_27200/760941675.py:20: FutureWarning: DataFrame.applymap has been deprecated. Use DataFrame.map instead.\n",
      "  df = df.applymap(lambda x: pd.to_numeric(x, errors='coerce') ) # Might wanna just do df.map\n",
      "/var/folders/q6/5c5n0y556yndkylpbylqpymc0000gn/T/ipykernel_27200/760941675.py:20: FutureWarning: DataFrame.applymap has been deprecated. Use DataFrame.map instead.\n",
      "  df = df.applymap(lambda x: pd.to_numeric(x, errors='coerce') ) # Might wanna just do df.map\n",
      "/var/folders/q6/5c5n0y556yndkylpbylqpymc0000gn/T/ipykernel_27200/760941675.py:20: FutureWarning: DataFrame.applymap has been deprecated. Use DataFrame.map instead.\n",
      "  df = df.applymap(lambda x: pd.to_numeric(x, errors='coerce') ) # Might wanna just do df.map\n",
      "/var/folders/q6/5c5n0y556yndkylpbylqpymc0000gn/T/ipykernel_27200/760941675.py:20: FutureWarning: DataFrame.applymap has been deprecated. Use DataFrame.map instead.\n",
      "  df = df.applymap(lambda x: pd.to_numeric(x, errors='coerce') ) # Might wanna just do df.map\n",
      "/var/folders/q6/5c5n0y556yndkylpbylqpymc0000gn/T/ipykernel_27200/760941675.py:20: FutureWarning: DataFrame.applymap has been deprecated. Use DataFrame.map instead.\n",
      "  df = df.applymap(lambda x: pd.to_numeric(x, errors='coerce') ) # Might wanna just do df.map\n",
      "/var/folders/q6/5c5n0y556yndkylpbylqpymc0000gn/T/ipykernel_27200/1137722564.py:23: FutureWarning: DataFrame.applymap has been deprecated. Use DataFrame.map instead.\n",
      "  data_df = data_df.applymap(lambda x: pd.to_numeric(x, errors='coerce') )\n"
     ]
    }
   ],
   "source": [
    "'''\n",
    "data_t: DF of sera (table specific) X Viruses (No viruses dropped yet) to make prediction on\n",
    "data_s_list: list of columns of data table for virus to train on ... Its the whole df I think\n",
    "feature_t: A particular virus to predict (And I assume we omit this from training)\n",
    "n_tree=50\n",
    "n_feature=5\n",
    "f_sample=0.3\n",
    "n_best_tree=5\n",
    "'''\n",
    "\n",
    "flu_df = pd.read_csv(\"../CrossStudyCompletion/Matrix Completion in R/InfluenzaData.csv\", sep=',')\n",
    "sera = flu_df['Measurements (Sera in Rows/Viruses in Columns)'].tolist()\n",
    "sera_tables = [i[i.index('Table'):] for i in sera]\n",
    "table_keys = set(sera_tables)\n",
    "flu_df['sera_table'] = sera_tables\n",
    "\n",
    "flu_table_dict = {table_key: flu_df.loc[flu_df['sera_table']==table_key] for table_key in table_keys}\n",
    "filtered_flu_table_dict = {key: non_trivialize_df(arg) for key, arg in list(flu_table_dict.items())}\n",
    "\n",
    "predict_table = 'TableS14'\n",
    "train_table = 'TableS13'\n",
    "data_df = flu_df.set_index(\"Measurements (Sera in Rows/Viruses in Columns)\")\n",
    "data_df = data_df.applymap(lambda x: pd.to_numeric(x, errors='coerce') )\n",
    "data_df = np.log10(data_df)\n",
    "data_df['sera_table'] = sera_tables\n",
    "\n",
    "data_t = data_df.loc[data_df['sera_table']==predict_table].drop(['sera_table'], axis=1)\n",
    "data_s = data_df.loc[data_df['sera_table']==train_table].drop(['sera_table'], axis=1)\n",
    "data_s_list = [data_s] # [[col] for col in list(data_s.columns)]\n",
    "feature_t = \"A/PANAMA/2007/99\"\n",
    "\n",
    "# K = len(data_s) # 160\n",
    "# data_assist = data_s\n",
    "# f_t_ind = list(data_assist.columns).index(feature_t)\n",
    "# data_t.columns.equals(data_t.columns)\n",
    "# f_t_ind = data_assist.columns.get_loc(feature_t)\n",
    "# n_tree=50\n",
    "# n_feature=5\n",
    "# f_sample=0.3\n",
    "# n_best_tree=5\n",
    "# k=1"
   ]
  },
  {
   "cell_type": "code",
   "execution_count": 261,
   "id": "53de176d",
   "metadata": {
    "cell_style": "center",
    "scrolled": true
   },
   "outputs": [
    {
     "name": "stdout",
     "output_type": "stream",
     "text": [
      "1 additional datasets used for prediction.\n",
      "Feature-of-interest located!\n",
      "data_assist shape: (160, 81)\n",
      "Iterating over 81\n",
      "feature_t check 0 A/AUCKLAND/5/96\n",
      "feature_t check 0 A/BRISBANE/22/94\n"
     ]
    },
    {
     "name": "stderr",
     "output_type": "stream",
     "text": [
      "/var/folders/q6/5c5n0y556yndkylpbylqpymc0000gn/T/ipykernel_27200/1947818423.py:202: RuntimeWarning: Mean of empty slice\n",
      "  mu = np.nanmean(pred_list, axis=1)\n",
      "/var/folders/q6/5c5n0y556yndkylpbylqpymc0000gn/T/ipykernel_27200/1947818423.py:202: RuntimeWarning: Mean of empty slice\n",
      "  mu = np.nanmean(pred_list, axis=1)\n"
     ]
    },
    {
     "name": "stdout",
     "output_type": "stream",
     "text": [
      "feature_t check 0 A/CHRISTCHURCH/1/96\n",
      "feature_t check 0 A/FUJIAN/140/2000\n"
     ]
    },
    {
     "name": "stderr",
     "output_type": "stream",
     "text": [
      "/var/folders/q6/5c5n0y556yndkylpbylqpymc0000gn/T/ipykernel_27200/1947818423.py:202: RuntimeWarning: Mean of empty slice\n",
      "  mu = np.nanmean(pred_list, axis=1)\n",
      "/var/folders/q6/5c5n0y556yndkylpbylqpymc0000gn/T/ipykernel_27200/1947818423.py:202: RuntimeWarning: Mean of empty slice\n",
      "  mu = np.nanmean(pred_list, axis=1)\n"
     ]
    },
    {
     "name": "stdout",
     "output_type": "stream",
     "text": [
      "feature_t check 0 A/NEW_YORK/55/2004\n",
      "feature_t check 0 A/PANAMA/2007/99\n"
     ]
    },
    {
     "name": "stderr",
     "output_type": "stream",
     "text": [
      "/var/folders/q6/5c5n0y556yndkylpbylqpymc0000gn/T/ipykernel_27200/1947818423.py:202: RuntimeWarning: Mean of empty slice\n",
      "  mu = np.nanmean(pred_list, axis=1)\n",
      "/var/folders/q6/5c5n0y556yndkylpbylqpymc0000gn/T/ipykernel_27200/1947818423.py:202: RuntimeWarning: Mean of empty slice\n",
      "  mu = np.nanmean(pred_list, axis=1)\n"
     ]
    },
    {
     "name": "stdout",
     "output_type": "stream",
     "text": [
      "feature_t check 0 A/PERTH/16/2009\n",
      "feature_t check 0 A/PERTH/27/2007\n"
     ]
    },
    {
     "name": "stderr",
     "output_type": "stream",
     "text": [
      "/var/folders/q6/5c5n0y556yndkylpbylqpymc0000gn/T/ipykernel_27200/1947818423.py:202: RuntimeWarning: Mean of empty slice\n",
      "  mu = np.nanmean(pred_list, axis=1)\n",
      "/var/folders/q6/5c5n0y556yndkylpbylqpymc0000gn/T/ipykernel_27200/1947818423.py:202: RuntimeWarning: Mean of empty slice\n",
      "  mu = np.nanmean(pred_list, axis=1)\n"
     ]
    },
    {
     "name": "stdout",
     "output_type": "stream",
     "text": [
      "feature_t check 0 A/TASMANIA/1/97\n",
      "feature_t check 0 A/VICTORIA/1/93\n"
     ]
    },
    {
     "name": "stderr",
     "output_type": "stream",
     "text": [
      "/var/folders/q6/5c5n0y556yndkylpbylqpymc0000gn/T/ipykernel_27200/1947818423.py:202: RuntimeWarning: Mean of empty slice\n",
      "  mu = np.nanmean(pred_list, axis=1)\n",
      "/var/folders/q6/5c5n0y556yndkylpbylqpymc0000gn/T/ipykernel_27200/1947818423.py:202: RuntimeWarning: Mean of empty slice\n",
      "  mu = np.nanmean(pred_list, axis=1)\n"
     ]
    },
    {
     "name": "stdout",
     "output_type": "stream",
     "text": [
      "feature_t check 0 A/VICTORIA/110/2004\n",
      "feature_t check 0 A/WELLINGTON/96/93\n"
     ]
    },
    {
     "name": "stderr",
     "output_type": "stream",
     "text": [
      "/var/folders/q6/5c5n0y556yndkylpbylqpymc0000gn/T/ipykernel_27200/1947818423.py:202: RuntimeWarning: Mean of empty slice\n",
      "  mu = np.nanmean(pred_list, axis=1)\n",
      "/var/folders/q6/5c5n0y556yndkylpbylqpymc0000gn/T/ipykernel_27200/1947818423.py:202: RuntimeWarning: Mean of empty slice\n",
      "  mu = np.nanmean(pred_list, axis=1)\n"
     ]
    },
    {
     "name": "stdout",
     "output_type": "stream",
     "text": [
      "feature_t check 0 BI/16190/68\n",
      "feature_t check 0 BI/1761/76\n"
     ]
    },
    {
     "name": "stderr",
     "output_type": "stream",
     "text": [
      "/var/folders/q6/5c5n0y556yndkylpbylqpymc0000gn/T/ipykernel_27200/1947818423.py:202: RuntimeWarning: Mean of empty slice\n",
      "  mu = np.nanmean(pred_list, axis=1)\n",
      "/var/folders/q6/5c5n0y556yndkylpbylqpymc0000gn/T/ipykernel_27200/1947818423.py:202: RuntimeWarning: Mean of empty slice\n",
      "  mu = np.nanmean(pred_list, axis=1)\n"
     ]
    },
    {
     "name": "stdout",
     "output_type": "stream",
     "text": [
      "feature_t check 0 BI/2271/76\n",
      "feature_t check 0 NL/233/82\n"
     ]
    },
    {
     "name": "stderr",
     "output_type": "stream",
     "text": [
      "/var/folders/q6/5c5n0y556yndkylpbylqpymc0000gn/T/ipykernel_27200/1947818423.py:202: RuntimeWarning: Mean of empty slice\n",
      "  mu = np.nanmean(pred_list, axis=1)\n",
      "/var/folders/q6/5c5n0y556yndkylpbylqpymc0000gn/T/ipykernel_27200/1947818423.py:202: RuntimeWarning: Mean of empty slice\n",
      "  mu = np.nanmean(pred_list, axis=1)\n"
     ]
    },
    {
     "name": "stdout",
     "output_type": "stream",
     "text": [
      "feature_t check 0 NL/620/89\n",
      "feature_t check 0 NL/823/92\n"
     ]
    },
    {
     "name": "stderr",
     "output_type": "stream",
     "text": [
      "/var/folders/q6/5c5n0y556yndkylpbylqpymc0000gn/T/ipykernel_27200/1947818423.py:202: RuntimeWarning: Mean of empty slice\n",
      "  mu = np.nanmean(pred_list, axis=1)\n",
      "/var/folders/q6/5c5n0y556yndkylpbylqpymc0000gn/T/ipykernel_27200/1947818423.py:202: RuntimeWarning: Mean of empty slice\n",
      "  mu = np.nanmean(pred_list, axis=1)\n"
     ]
    },
    {
     "name": "stdout",
     "output_type": "stream",
     "text": [
      "feature_t check 0 VN016/EL135/2008\n",
      "feature_t check 0 VN053/2010\n"
     ]
    },
    {
     "name": "stderr",
     "output_type": "stream",
     "text": [
      "/var/folders/q6/5c5n0y556yndkylpbylqpymc0000gn/T/ipykernel_27200/1947818423.py:202: RuntimeWarning: Mean of empty slice\n",
      "  mu = np.nanmean(pred_list, axis=1)\n",
      "/var/folders/q6/5c5n0y556yndkylpbylqpymc0000gn/T/ipykernel_27200/1947818423.py:202: RuntimeWarning: Mean of empty slice\n",
      "  mu = np.nanmean(pred_list, axis=1)\n"
     ]
    },
    {
     "name": "stdout",
     "output_type": "stream",
     "text": [
      "Doing lm stuff\n",
      "['a=0.829', 'b=0.111', 'c=0.051']\n",
      "feature_t check 0 A/PANAMA/2007/99\n",
      "rf_1t1: {'mu': array([0.87540703, 1.40388191, 0.91638056, 1.50088047, 1.1651484 ,\n",
      "       1.58868088, 2.03270012, 1.81361718, 1.03261158, 1.50255285,\n",
      "       1.92901201, 1.10285192, 1.2851423 , 0.73994353, 1.83284965,\n",
      "       1.94239113, 1.53014727, 0.89296711, 2.19324946, 0.81770961,\n",
      "       1.72247199, 1.40220952, 0.70900434, 1.95911501, 1.01170672,\n",
      "       1.66728316, 1.65557644, 1.29183186, 1.77431604, 1.13211872,\n",
      "       1.32193486, 1.43231252, 2.31617004, 1.08612803, 1.54519877,\n",
      "       1.61293052, 0.78677042, 0.98662089, 1.33865875, 0.99331044,\n",
      "       1.85877168, 1.10034333, 1.16891128, 1.38464944, 1.69822235,\n",
      "       1.25922027, 0.66719462, 2.3370749 , 1.91228813, 1.71243766,\n",
      "       1.83535824, 1.70867478, 1.16305791, 2.11297479, 1.31106433,\n",
      "              nan, 2.22000768, 0.71318531, 0.71151292, 1.71494624,\n",
      "       1.03762875, 1.22995347, 1.0451545 , 2.39978948, 1.27510797,\n",
      "       2.01597624, 1.45656216, 1.66979174, 1.03679256, 1.55774169,\n",
      "       0.97993133, 0.71318531, 2.01346765, 1.71494624, 0.79262378,\n",
      "       2.09123373, 1.70742049, 1.82030674, 1.16723889, 2.14391398,\n",
      "       1.55356071, 1.80525524, 1.50673383, 1.75006641, 1.35287405,\n",
      "       1.90559857, 1.94406351, 1.94155493, 1.15553216, 1.62547344,\n",
      "       2.04942401, 1.52931108, 1.6906966 , 1.32695202, 2.59880375,\n",
      "       2.18906848, 1.7216358 , 1.15636836, 2.35296259, 1.53432824,\n",
      "       2.07869082, 1.78518657, 0.67555656, 2.32285959, 1.32444344,\n",
      "       1.74588543, 2.20579237, 1.40304572, 2.18321512, 0.75499503,\n",
      "       1.5552331 , 1.79187613, 2.51936528, 1.42729535, 1.63801635,\n",
      "       1.69320518, 1.36290838, 1.18897994, 1.45907074, 1.06271458,\n",
      "       1.94406351, 1.240824  , 1.77097127, 1.65975741, 1.91897768,\n",
      "       1.89807282, 1.2700908 , 2.3370749 , 2.18321512, 2.19743043,\n",
      "       1.9908904 , 2.0734646 , 1.65055927, 1.99339899, 1.68735182,\n",
      "              nan, 2.29777376, 0.97575036, 1.04599069, 1.99674376,\n",
      "       1.2851423 , 0.86035553, 1.38381324, 2.53023581, 1.3754513 ,\n",
      "       2.3370749 , 1.58199132, 1.41976961, 1.77598843, 1.71996341,\n",
      "       1.40304572, 1.56108646, 2.30446331, 1.90977954, 1.44318305,\n",
      "       2.30529951, 1.69236899, 2.15562071, 1.97082174, 2.4123324 ]), 'true_err': array([0.25497227, 0.2603531 , 0.22412314, 0.25699998, 0.18545184]), 'pred_err': [0.1332062367581037, 0.17632737036341678, 0.18373433868848754, 0.20202778289589945, 0.2055335183840255]}\n",
      "mu [array([0.87540703, 1.40388191, 0.91638056, 1.50088047, 1.1651484 ,\n",
      "       1.58868088, 2.03270012, 1.81361718, 1.03261158, 1.50255285,\n",
      "       1.92901201, 1.10285192, 1.2851423 , 0.73994353, 1.83284965,\n",
      "       1.94239113, 1.53014727, 0.89296711, 2.19324946, 0.81770961,\n",
      "       1.72247199, 1.40220952, 0.70900434, 1.95911501, 1.01170672,\n",
      "       1.66728316, 1.65557644, 1.29183186, 1.77431604, 1.13211872,\n",
      "       1.32193486, 1.43231252, 2.31617004, 1.08612803, 1.54519877,\n",
      "       1.61293052, 0.78677042, 0.98662089, 1.33865875, 0.99331044,\n",
      "       1.85877168, 1.10034333, 1.16891128, 1.38464944, 1.69822235,\n",
      "       1.25922027, 0.66719462, 2.3370749 , 1.91228813, 1.71243766,\n",
      "       1.83535824, 1.70867478, 1.16305791, 2.11297479, 1.31106433,\n",
      "              nan, 2.22000768, 0.71318531, 0.71151292, 1.71494624,\n",
      "       1.03762875, 1.22995347, 1.0451545 , 2.39978948, 1.27510797,\n",
      "       2.01597624, 1.45656216, 1.66979174, 1.03679256, 1.55774169,\n",
      "       0.97993133, 0.71318531, 2.01346765, 1.71494624, 0.79262378,\n",
      "       2.09123373, 1.70742049, 1.82030674, 1.16723889, 2.14391398,\n",
      "       1.55356071, 1.80525524, 1.50673383, 1.75006641, 1.35287405,\n",
      "       1.90559857, 1.94406351, 1.94155493, 1.15553216, 1.62547344,\n",
      "       2.04942401, 1.52931108, 1.6906966 , 1.32695202, 2.59880375,\n",
      "       2.18906848, 1.7216358 , 1.15636836, 2.35296259, 1.53432824,\n",
      "       2.07869082, 1.78518657, 0.67555656, 2.32285959, 1.32444344,\n",
      "       1.74588543, 2.20579237, 1.40304572, 2.18321512, 0.75499503,\n",
      "       1.5552331 , 1.79187613, 2.51936528, 1.42729535, 1.63801635,\n",
      "       1.69320518, 1.36290838, 1.18897994, 1.45907074, 1.06271458,\n",
      "       1.94406351, 1.240824  , 1.77097127, 1.65975741, 1.91897768,\n",
      "       1.89807282, 1.2700908 , 2.3370749 , 2.18321512, 2.19743043,\n",
      "       1.9908904 , 2.0734646 , 1.65055927, 1.99339899, 1.68735182,\n",
      "              nan, 2.29777376, 0.97575036, 1.04599069, 1.99674376,\n",
      "       1.2851423 , 0.86035553, 1.38381324, 2.53023581, 1.3754513 ,\n",
      "       2.3370749 , 1.58199132, 1.41976961, 1.77598843, 1.71996341,\n",
      "       1.40304572, 1.56108646, 2.30446331, 1.90977954, 1.44318305,\n",
      "       2.30529951, 1.69236899, 2.15562071, 1.97082174, 2.4123324 ])]\n",
      "sigma [0.3118049084645797]\n",
      "len sigma: 1\n",
      "[0.3118049084645797]\n",
      "K: 1\n",
      "k: 0\n",
      "1 assisting data used for prediction.\n"
     ]
    },
    {
     "name": "stderr",
     "output_type": "stream",
     "text": [
      "/var/folders/q6/5c5n0y556yndkylpbylqpymc0000gn/T/ipykernel_27200/1947818423.py:202: RuntimeWarning: Mean of empty slice\n",
      "  mu = np.nanmean(pred_list, axis=1)\n"
     ]
    }
   ],
   "source": [
    "results = RF_complete(data_t = data_t,\n",
    "                      data_s_list=[data_s],\n",
    "                      feature_t=feature_t)"
   ]
  },
  {
   "cell_type": "code",
   "execution_count": 254,
   "id": "796af7ea",
   "metadata": {},
   "outputs": [
    {
     "data": {
      "image/png": "[encoded data removed]",
      "text/plain": [
       "<Figure size 800x600 with 1 Axes>"
      ]
     },
     "metadata": {},
     "output_type": "display_data"
    }
   ],
   "source": [
    "import matplotlib.pyplot as plt\n",
    "\n",
    "# Assuming 'feature.t' is the feature you want to use as the x-axis\n",
    "x_data = data_t[feature_t]\n",
    "\n",
    "# 'out' contains the predictions\n",
    "y_data = results['predictions']\n",
    "\n",
    "# Create the scatter plot\n",
    "plt.figure(figsize=(8, 6))\n",
    "plt.scatter(x_data, y_data, alpha=0.5)\n",
    "plt.xlabel(\"log10(HAI Measurements)\")\n",
    "plt.ylabel(\"log10(Predicted Values)\")\n",
    "plt.title(\"Scatter Plot With Predicted Error Bars\")\n",
    "plt.grid(True)\n",
    "\n",
    "\n",
    "plt.errorbar(data_t[feature_t], y_data,\n",
    "             yerr=results['errors'], fmt='o', capsize=5, label=\"Error Bars\")\n",
    "\n",
    "# Actual prediction error (as n-folds)\n",
    "# actual_error = 10 ** np.sqrt(np.mean((np.log10(y_train) - np.log10(y_pred)) ** 2))\n",
    "# print(\"Actual Prediction Error (as n-folds):\", actual_error)\n",
    "\n",
    "\n",
    "plt.show()"
   ]
  },
  {
   "cell_type": "code",
   "execution_count": 266,
   "id": "5312185e",
   "metadata": {},
   "outputs": [
    {
     "name": "stderr",
     "output_type": "stream",
     "text": [
      "/var/folders/q6/5c5n0y556yndkylpbylqpymc0000gn/T/ipykernel_27200/760941675.py:20: FutureWarning: DataFrame.applymap has been deprecated. Use DataFrame.map instead.\n",
      "  df = df.applymap(lambda x: pd.to_numeric(x, errors='coerce') ) # Might wanna just do df.map\n",
      "/var/folders/q6/5c5n0y556yndkylpbylqpymc0000gn/T/ipykernel_27200/760941675.py:20: FutureWarning: DataFrame.applymap has been deprecated. Use DataFrame.map instead.\n",
      "  df = df.applymap(lambda x: pd.to_numeric(x, errors='coerce') ) # Might wanna just do df.map\n",
      "/var/folders/q6/5c5n0y556yndkylpbylqpymc0000gn/T/ipykernel_27200/760941675.py:20: FutureWarning: DataFrame.applymap has been deprecated. Use DataFrame.map instead.\n",
      "  df = df.applymap(lambda x: pd.to_numeric(x, errors='coerce') ) # Might wanna just do df.map\n",
      "/var/folders/q6/5c5n0y556yndkylpbylqpymc0000gn/T/ipykernel_27200/760941675.py:20: FutureWarning: DataFrame.applymap has been deprecated. Use DataFrame.map instead.\n",
      "  df = df.applymap(lambda x: pd.to_numeric(x, errors='coerce') ) # Might wanna just do df.map\n",
      "/var/folders/q6/5c5n0y556yndkylpbylqpymc0000gn/T/ipykernel_27200/760941675.py:20: FutureWarning: DataFrame.applymap has been deprecated. Use DataFrame.map instead.\n",
      "  df = df.applymap(lambda x: pd.to_numeric(x, errors='coerce') ) # Might wanna just do df.map\n",
      "/var/folders/q6/5c5n0y556yndkylpbylqpymc0000gn/T/ipykernel_27200/760941675.py:20: FutureWarning: DataFrame.applymap has been deprecated. Use DataFrame.map instead.\n",
      "  df = df.applymap(lambda x: pd.to_numeric(x, errors='coerce') ) # Might wanna just do df.map\n",
      "/var/folders/q6/5c5n0y556yndkylpbylqpymc0000gn/T/ipykernel_27200/1168631861.py:23: FutureWarning: DataFrame.applymap has been deprecated. Use DataFrame.map instead.\n",
      "  data_df = data_df.applymap(lambda x: pd.to_numeric(x, errors='coerce') )\n",
      "/var/folders/q6/5c5n0y556yndkylpbylqpymc0000gn/T/ipykernel_27200/1947818423.py:202: RuntimeWarning: Mean of empty slice\n",
      "  mu = np.nanmean(pred_list, axis=1)\n"
     ]
    },
    {
     "name": "stdout",
     "output_type": "stream",
     "text": [
      "1 additional datasets used for prediction.\n",
      "Feature-of-interest located!\n",
      "data_assist shape: (212, 81)\n",
      "Iterating over 81\n",
      "feature_t check 0 A/AUCKLAND/5/96\n",
      "feature_t check 0 A/BRISBANE/22/94\n"
     ]
    },
    {
     "name": "stderr",
     "output_type": "stream",
     "text": [
      "/var/folders/q6/5c5n0y556yndkylpbylqpymc0000gn/T/ipykernel_27200/1947818423.py:202: RuntimeWarning: Mean of empty slice\n",
      "  mu = np.nanmean(pred_list, axis=1)\n",
      "/var/folders/q6/5c5n0y556yndkylpbylqpymc0000gn/T/ipykernel_27200/1947818423.py:202: RuntimeWarning: Mean of empty slice\n",
      "  mu = np.nanmean(pred_list, axis=1)\n"
     ]
    },
    {
     "name": "stdout",
     "output_type": "stream",
     "text": [
      "feature_t check 0 A/CHRISTCHURCH/1/96\n",
      "feature_t check 0 A/FUJIAN/140/2000\n"
     ]
    },
    {
     "name": "stderr",
     "output_type": "stream",
     "text": [
      "/var/folders/q6/5c5n0y556yndkylpbylqpymc0000gn/T/ipykernel_27200/1947818423.py:202: RuntimeWarning: Mean of empty slice\n",
      "  mu = np.nanmean(pred_list, axis=1)\n",
      "/var/folders/q6/5c5n0y556yndkylpbylqpymc0000gn/T/ipykernel_27200/1947818423.py:202: RuntimeWarning: Mean of empty slice\n",
      "  mu = np.nanmean(pred_list, axis=1)\n"
     ]
    },
    {
     "name": "stdout",
     "output_type": "stream",
     "text": [
      "feature_t check 0 A/NEW_YORK/55/2004\n",
      "feature_t check 0 A/PANAMA/2007/99\n"
     ]
    },
    {
     "name": "stderr",
     "output_type": "stream",
     "text": [
      "/var/folders/q6/5c5n0y556yndkylpbylqpymc0000gn/T/ipykernel_27200/1947818423.py:202: RuntimeWarning: Mean of empty slice\n",
      "  mu = np.nanmean(pred_list, axis=1)\n",
      "/var/folders/q6/5c5n0y556yndkylpbylqpymc0000gn/T/ipykernel_27200/1947818423.py:202: RuntimeWarning: Mean of empty slice\n",
      "  mu = np.nanmean(pred_list, axis=1)\n"
     ]
    },
    {
     "name": "stdout",
     "output_type": "stream",
     "text": [
      "feature_t check 0 A/PERTH/16/2009\n",
      "feature_t check 0 A/PERTH/27/2007\n"
     ]
    },
    {
     "name": "stderr",
     "output_type": "stream",
     "text": [
      "/var/folders/q6/5c5n0y556yndkylpbylqpymc0000gn/T/ipykernel_27200/1947818423.py:202: RuntimeWarning: Mean of empty slice\n",
      "  mu = np.nanmean(pred_list, axis=1)\n",
      "/var/folders/q6/5c5n0y556yndkylpbylqpymc0000gn/T/ipykernel_27200/1947818423.py:202: RuntimeWarning: Mean of empty slice\n",
      "  mu = np.nanmean(pred_list, axis=1)\n"
     ]
    },
    {
     "name": "stdout",
     "output_type": "stream",
     "text": [
      "feature_t check 0 A/TASMANIA/1/97\n",
      "feature_t check 0 A/VICTORIA/1/93\n"
     ]
    },
    {
     "name": "stderr",
     "output_type": "stream",
     "text": [
      "/var/folders/q6/5c5n0y556yndkylpbylqpymc0000gn/T/ipykernel_27200/1947818423.py:202: RuntimeWarning: Mean of empty slice\n",
      "  mu = np.nanmean(pred_list, axis=1)\n",
      "/var/folders/q6/5c5n0y556yndkylpbylqpymc0000gn/T/ipykernel_27200/1947818423.py:202: RuntimeWarning: Mean of empty slice\n",
      "  mu = np.nanmean(pred_list, axis=1)\n"
     ]
    },
    {
     "name": "stdout",
     "output_type": "stream",
     "text": [
      "feature_t check 0 A/VICTORIA/110/2004\n",
      "feature_t check 0 A/WELLINGTON/96/93\n"
     ]
    },
    {
     "name": "stderr",
     "output_type": "stream",
     "text": [
      "/var/folders/q6/5c5n0y556yndkylpbylqpymc0000gn/T/ipykernel_27200/1947818423.py:202: RuntimeWarning: Mean of empty slice\n",
      "  mu = np.nanmean(pred_list, axis=1)\n",
      "/var/folders/q6/5c5n0y556yndkylpbylqpymc0000gn/T/ipykernel_27200/1947818423.py:202: RuntimeWarning: Mean of empty slice\n",
      "  mu = np.nanmean(pred_list, axis=1)\n"
     ]
    },
    {
     "name": "stdout",
     "output_type": "stream",
     "text": [
      "feature_t check 0 BI/16190/68\n",
      "feature_t check 0 BI/1761/76\n"
     ]
    },
    {
     "name": "stderr",
     "output_type": "stream",
     "text": [
      "/var/folders/q6/5c5n0y556yndkylpbylqpymc0000gn/T/ipykernel_27200/1947818423.py:202: RuntimeWarning: Mean of empty slice\n",
      "  mu = np.nanmean(pred_list, axis=1)\n",
      "/var/folders/q6/5c5n0y556yndkylpbylqpymc0000gn/T/ipykernel_27200/1947818423.py:202: RuntimeWarning: Mean of empty slice\n",
      "  mu = np.nanmean(pred_list, axis=1)\n"
     ]
    },
    {
     "name": "stdout",
     "output_type": "stream",
     "text": [
      "feature_t check 0 BI/2271/76\n",
      "feature_t check 0 NL/233/82\n"
     ]
    },
    {
     "name": "stderr",
     "output_type": "stream",
     "text": [
      "/var/folders/q6/5c5n0y556yndkylpbylqpymc0000gn/T/ipykernel_27200/1947818423.py:202: RuntimeWarning: Mean of empty slice\n",
      "  mu = np.nanmean(pred_list, axis=1)\n",
      "/var/folders/q6/5c5n0y556yndkylpbylqpymc0000gn/T/ipykernel_27200/1947818423.py:202: RuntimeWarning: Mean of empty slice\n",
      "  mu = np.nanmean(pred_list, axis=1)\n"
     ]
    },
    {
     "name": "stdout",
     "output_type": "stream",
     "text": [
      "feature_t check 0 NL/620/89\n",
      "feature_t check 0 NL/823/92\n",
      "feature_t check 0 VN016/EL135/2008\n"
     ]
    },
    {
     "name": "stderr",
     "output_type": "stream",
     "text": [
      "/var/folders/q6/5c5n0y556yndkylpbylqpymc0000gn/T/ipykernel_27200/1947818423.py:202: RuntimeWarning: Mean of empty slice\n",
      "  mu = np.nanmean(pred_list, axis=1)\n"
     ]
    },
    {
     "ename": "ValueError",
     "evalue": "Found array with 0 sample(s) (shape=(0, 5)) while a minimum of 1 is required by DecisionTreeRegressor.",
     "output_type": "error",
     "traceback": [
      "\u001b[0;31m---------------------------------------------------------------------------\u001b[0m",
      "\u001b[0;31mValueError\u001b[0m                                Traceback (most recent call last)",
      "Cell \u001b[0;32mIn[266], line 36\u001b[0m\n\u001b[1;32m     34\u001b[0m data_s_list \u001b[38;5;241m=\u001b[39m [data_s] \u001b[38;5;66;03m# single dataframe placed in a list\u001b[39;00m\n\u001b[1;32m     35\u001b[0m \u001b[38;5;66;03m# Might wanna store tree models maybe\u001b[39;00m\n\u001b[0;32m---> 36\u001b[0m results \u001b[38;5;241m=\u001b[39m \u001b[43mRF_complete\u001b[49m\u001b[43m(\u001b[49m\u001b[43mdata_t\u001b[49m\u001b[43m \u001b[49m\u001b[38;5;241;43m=\u001b[39;49m\u001b[43m \u001b[49m\u001b[43mdata_t\u001b[49m\u001b[43m,\u001b[49m\n\u001b[1;32m     37\u001b[0m \u001b[43m                  \u001b[49m\u001b[43mdata_s_list\u001b[49m\u001b[38;5;241;43m=\u001b[39;49m\u001b[43m[\u001b[49m\u001b[43mdata_s\u001b[49m\u001b[43m]\u001b[49m\u001b[43m,\u001b[49m\n\u001b[1;32m     38\u001b[0m \u001b[43m                  \u001b[49m\u001b[43mfeature_t\u001b[49m\u001b[38;5;241;43m=\u001b[39;49m\u001b[43mfeature_t\u001b[49m\u001b[43m)\u001b[49m\n\u001b[1;32m     39\u001b[0m title \u001b[38;5;241m=\u001b[39m \u001b[38;5;124mf\u001b[39m\u001b[38;5;124m'\u001b[39m\u001b[38;5;132;01m{\u001b[39;00mtrain_table\u001b[38;5;132;01m}\u001b[39;00m\u001b[38;5;124m to \u001b[39m\u001b[38;5;132;01m{\u001b[39;00mpredict_table\u001b[38;5;132;01m}\u001b[39;00m\u001b[38;5;124m'\u001b[39m\n\u001b[1;32m     40\u001b[0m results_dict[title] \u001b[38;5;241m=\u001b[39m results\n",
      "Cell \u001b[0;32mIn[257], line 46\u001b[0m, in \u001b[0;36mRF_complete\u001b[0;34m(data_t, data_s_list, feature_t, n_tree, n_feature, f_sample, n_best_tree)\u001b[0m\n\u001b[1;32m     44\u001b[0m \u001b[38;5;66;03m#             if not data_t.iloc[:, j].isna().sum() > 0: # Check this for mistake\u001b[39;00m\n\u001b[1;32m     45\u001b[0m             \u001b[38;5;28;01mif\u001b[39;00m data_t\u001b[38;5;241m.\u001b[39miloc[:, j]\u001b[38;5;241m.\u001b[39mnotna()\u001b[38;5;241m.\u001b[39msum() \u001b[38;5;241m>\u001b[39m \u001b[38;5;241m0\u001b[39m:\n\u001b[0;32m---> 46\u001b[0m                 rf_1t1 \u001b[38;5;241m=\u001b[39m \u001b[43mRF_complete_1t1\u001b[49m\u001b[43m(\u001b[49m\u001b[43mdata_assist\u001b[49m\u001b[43m,\u001b[49m\u001b[43m \u001b[49m\u001b[43mdata_t\u001b[49m\u001b[43m,\u001b[49m\u001b[43m \u001b[49m\u001b[43mfeature_t\u001b[49m\u001b[38;5;241;43m=\u001b[39;49m\u001b[43mfeature_trans\u001b[49m\u001b[43m,\u001b[49m\u001b[43m \u001b[49m\u001b[43mn_tree\u001b[49m\u001b[38;5;241;43m=\u001b[39;49m\u001b[43mn_tree\u001b[49m\u001b[43m,\u001b[49m\n\u001b[1;32m     47\u001b[0m \u001b[43m                                         \u001b[49m\u001b[43mn_feature\u001b[49m\u001b[38;5;241;43m=\u001b[39;49m\u001b[43mn_feature\u001b[49m\u001b[43m,\u001b[49m\u001b[43m \u001b[49m\u001b[43mf_sample\u001b[49m\u001b[38;5;241;43m=\u001b[39;49m\u001b[43mf_sample\u001b[49m\u001b[43m,\u001b[49m\u001b[43m \u001b[49m\u001b[43mk\u001b[49m\u001b[38;5;241;43m=\u001b[39;49m\u001b[43mk\u001b[49m\u001b[43m)\u001b[49m\n\u001b[1;32m     49\u001b[0m                 \u001b[38;5;28;01mif\u001b[39;00m rf_1t1 \u001b[38;5;129;01mis\u001b[39;00m \u001b[38;5;129;01mnot\u001b[39;00m \u001b[38;5;28;01mNone\u001b[39;00m: \u001b[38;5;66;03m# Check to see that rf_1t1 is a val and not None or a bool\u001b[39;00m\n\u001b[1;32m     50\u001b[0m                     trans_true_err\u001b[38;5;241m.\u001b[39mextend(rf_1t1[\u001b[38;5;124m\"\u001b[39m\u001b[38;5;124mtrue_err\u001b[39m\u001b[38;5;124m\"\u001b[39m])\n",
      "Cell \u001b[0;32mIn[257], line 142\u001b[0m, in \u001b[0;36mRF_complete_1t1\u001b[0;34m(data_assist, data_t, feature_t, n_tree, n_feature, f_sample, n_best_tree, k)\u001b[0m\n\u001b[1;32m    136\u001b[0m \u001b[38;5;66;03m###get decision tree and RMSE\u001b[39;00m\n\u001b[1;32m    137\u001b[0m \u001b[38;5;66;03m# import xgboost as xgb\u001b[39;00m\n\u001b[1;32m    138\u001b[0m \u001b[38;5;66;03m# Fit the model to the data (handles missing values)\u001b[39;00m\n\u001b[1;32m    139\u001b[0m \u001b[38;5;66;03m# tree.append(xgb.XGBRegressor(max_depth=5, min_child_weight=5))\u001b[39;00m\n\u001b[1;32m    140\u001b[0m \u001b[38;5;66;03m# tree[i].fit(data_train.iloc[:, :-1], data_train[\"target\"]) # Sometimes runs into nan somehow... ACTUALLY just for the outdated version of sklearn, new is fine\u001b[39;00m\n\u001b[1;32m    141\u001b[0m tree\u001b[38;5;241m.\u001b[39mappend(DecisionTreeRegressor(min_samples_split\u001b[38;5;241m=\u001b[39m\u001b[38;5;241m5\u001b[39m))\n\u001b[0;32m--> 142\u001b[0m \u001b[43mtree\u001b[49m\u001b[43m[\u001b[49m\u001b[43mi\u001b[49m\u001b[43m]\u001b[49m\u001b[38;5;241;43m.\u001b[39;49m\u001b[43mfit\u001b[49m\u001b[43m(\u001b[49m\u001b[43mdata_train\u001b[49m\u001b[38;5;241;43m.\u001b[39;49m\u001b[43miloc\u001b[49m\u001b[43m[\u001b[49m\u001b[43m:\u001b[49m\u001b[43m,\u001b[49m\u001b[43m \u001b[49m\u001b[43m:\u001b[49m\u001b[38;5;241;43m-\u001b[39;49m\u001b[38;5;241;43m1\u001b[39;49m\u001b[43m]\u001b[49m\u001b[43m,\u001b[49m\u001b[43m \u001b[49m\u001b[43mdata_train\u001b[49m\u001b[43m[\u001b[49m\u001b[38;5;124;43m\"\u001b[39;49m\u001b[38;5;124;43mtarget\u001b[39;49m\u001b[38;5;124;43m\"\u001b[39;49m\u001b[43m]\u001b[49m\u001b[43m)\u001b[49m\n\u001b[1;32m    143\u001b[0m \u001b[38;5;66;03m# Compile testing dataset\u001b[39;00m\n\u001b[1;32m    144\u001b[0m data_test \u001b[38;5;241m=\u001b[39m data_assist\u001b[38;5;241m.\u001b[39mdrop([data_assist\u001b[38;5;241m.\u001b[39mindex[idx] \u001b[38;5;28;01mfor\u001b[39;00m idx \u001b[38;5;129;01min\u001b[39;00m sample_sel], axis\u001b[38;5;241m=\u001b[39m\u001b[38;5;241m0\u001b[39m)[np\u001b[38;5;241m.\u001b[39mappend(f_sel_ind[i], feature_t)]\n",
      "File \u001b[0;32m/opt/homebrew/Caskroom/miniforge/base/envs/stats/lib/python3.11/site-packages/sklearn/base.py:1152\u001b[0m, in \u001b[0;36m_fit_context.<locals>.decorator.<locals>.wrapper\u001b[0;34m(estimator, *args, **kwargs)\u001b[0m\n\u001b[1;32m   1145\u001b[0m     estimator\u001b[38;5;241m.\u001b[39m_validate_params()\n\u001b[1;32m   1147\u001b[0m \u001b[38;5;28;01mwith\u001b[39;00m config_context(\n\u001b[1;32m   1148\u001b[0m     skip_parameter_validation\u001b[38;5;241m=\u001b[39m(\n\u001b[1;32m   1149\u001b[0m         prefer_skip_nested_validation \u001b[38;5;129;01mor\u001b[39;00m global_skip_validation\n\u001b[1;32m   1150\u001b[0m     )\n\u001b[1;32m   1151\u001b[0m ):\n\u001b[0;32m-> 1152\u001b[0m     \u001b[38;5;28;01mreturn\u001b[39;00m \u001b[43mfit_method\u001b[49m\u001b[43m(\u001b[49m\u001b[43mestimator\u001b[49m\u001b[43m,\u001b[49m\u001b[43m \u001b[49m\u001b[38;5;241;43m*\u001b[39;49m\u001b[43margs\u001b[49m\u001b[43m,\u001b[49m\u001b[43m \u001b[49m\u001b[38;5;241;43m*\u001b[39;49m\u001b[38;5;241;43m*\u001b[39;49m\u001b[43mkwargs\u001b[49m\u001b[43m)\u001b[49m\n",
      "File \u001b[0;32m/opt/homebrew/Caskroom/miniforge/base/envs/stats/lib/python3.11/site-packages/sklearn/tree/_classes.py:1320\u001b[0m, in \u001b[0;36mDecisionTreeRegressor.fit\u001b[0;34m(self, X, y, sample_weight, check_input)\u001b[0m\n\u001b[1;32m   1290\u001b[0m \u001b[38;5;129m@_fit_context\u001b[39m(prefer_skip_nested_validation\u001b[38;5;241m=\u001b[39m\u001b[38;5;28;01mTrue\u001b[39;00m)\n\u001b[1;32m   1291\u001b[0m \u001b[38;5;28;01mdef\u001b[39;00m \u001b[38;5;21mfit\u001b[39m(\u001b[38;5;28mself\u001b[39m, X, y, sample_weight\u001b[38;5;241m=\u001b[39m\u001b[38;5;28;01mNone\u001b[39;00m, check_input\u001b[38;5;241m=\u001b[39m\u001b[38;5;28;01mTrue\u001b[39;00m):\n\u001b[1;32m   1292\u001b[0m \u001b[38;5;250m    \u001b[39m\u001b[38;5;124;03m\"\"\"Build a decision tree regressor from the training set (X, y).\u001b[39;00m\n\u001b[1;32m   1293\u001b[0m \n\u001b[1;32m   1294\u001b[0m \u001b[38;5;124;03m    Parameters\u001b[39;00m\n\u001b[0;32m   (...)\u001b[0m\n\u001b[1;32m   1317\u001b[0m \u001b[38;5;124;03m        Fitted estimator.\u001b[39;00m\n\u001b[1;32m   1318\u001b[0m \u001b[38;5;124;03m    \"\"\"\u001b[39;00m\n\u001b[0;32m-> 1320\u001b[0m     \u001b[38;5;28;43msuper\u001b[39;49m\u001b[43m(\u001b[49m\u001b[43m)\u001b[49m\u001b[38;5;241;43m.\u001b[39;49m\u001b[43m_fit\u001b[49m\u001b[43m(\u001b[49m\n\u001b[1;32m   1321\u001b[0m \u001b[43m        \u001b[49m\u001b[43mX\u001b[49m\u001b[43m,\u001b[49m\n\u001b[1;32m   1322\u001b[0m \u001b[43m        \u001b[49m\u001b[43my\u001b[49m\u001b[43m,\u001b[49m\n\u001b[1;32m   1323\u001b[0m \u001b[43m        \u001b[49m\u001b[43msample_weight\u001b[49m\u001b[38;5;241;43m=\u001b[39;49m\u001b[43msample_weight\u001b[49m\u001b[43m,\u001b[49m\n\u001b[1;32m   1324\u001b[0m \u001b[43m        \u001b[49m\u001b[43mcheck_input\u001b[49m\u001b[38;5;241;43m=\u001b[39;49m\u001b[43mcheck_input\u001b[49m\u001b[43m,\u001b[49m\n\u001b[1;32m   1325\u001b[0m \u001b[43m    \u001b[49m\u001b[43m)\u001b[49m\n\u001b[1;32m   1326\u001b[0m     \u001b[38;5;28;01mreturn\u001b[39;00m \u001b[38;5;28mself\u001b[39m\n",
      "File \u001b[0;32m/opt/homebrew/Caskroom/miniforge/base/envs/stats/lib/python3.11/site-packages/sklearn/tree/_classes.py:242\u001b[0m, in \u001b[0;36mBaseDecisionTree._fit\u001b[0;34m(self, X, y, sample_weight, check_input, missing_values_in_feature_mask)\u001b[0m\n\u001b[1;32m    238\u001b[0m check_X_params \u001b[38;5;241m=\u001b[39m \u001b[38;5;28mdict\u001b[39m(\n\u001b[1;32m    239\u001b[0m     dtype\u001b[38;5;241m=\u001b[39mDTYPE, accept_sparse\u001b[38;5;241m=\u001b[39m\u001b[38;5;124m\"\u001b[39m\u001b[38;5;124mcsc\u001b[39m\u001b[38;5;124m\"\u001b[39m, force_all_finite\u001b[38;5;241m=\u001b[39m\u001b[38;5;28;01mFalse\u001b[39;00m\n\u001b[1;32m    240\u001b[0m )\n\u001b[1;32m    241\u001b[0m check_y_params \u001b[38;5;241m=\u001b[39m \u001b[38;5;28mdict\u001b[39m(ensure_2d\u001b[38;5;241m=\u001b[39m\u001b[38;5;28;01mFalse\u001b[39;00m, dtype\u001b[38;5;241m=\u001b[39m\u001b[38;5;28;01mNone\u001b[39;00m)\n\u001b[0;32m--> 242\u001b[0m X, y \u001b[38;5;241m=\u001b[39m \u001b[38;5;28;43mself\u001b[39;49m\u001b[38;5;241;43m.\u001b[39;49m\u001b[43m_validate_data\u001b[49m\u001b[43m(\u001b[49m\n\u001b[1;32m    243\u001b[0m \u001b[43m    \u001b[49m\u001b[43mX\u001b[49m\u001b[43m,\u001b[49m\u001b[43m \u001b[49m\u001b[43my\u001b[49m\u001b[43m,\u001b[49m\u001b[43m \u001b[49m\u001b[43mvalidate_separately\u001b[49m\u001b[38;5;241;43m=\u001b[39;49m\u001b[43m(\u001b[49m\u001b[43mcheck_X_params\u001b[49m\u001b[43m,\u001b[49m\u001b[43m \u001b[49m\u001b[43mcheck_y_params\u001b[49m\u001b[43m)\u001b[49m\n\u001b[1;32m    244\u001b[0m \u001b[43m\u001b[49m\u001b[43m)\u001b[49m\n\u001b[1;32m    246\u001b[0m missing_values_in_feature_mask \u001b[38;5;241m=\u001b[39m (\n\u001b[1;32m    247\u001b[0m     \u001b[38;5;28mself\u001b[39m\u001b[38;5;241m.\u001b[39m_compute_missing_values_in_feature_mask(X)\n\u001b[1;32m    248\u001b[0m )\n\u001b[1;32m    249\u001b[0m \u001b[38;5;28;01mif\u001b[39;00m issparse(X):\n",
      "File \u001b[0;32m/opt/homebrew/Caskroom/miniforge/base/envs/stats/lib/python3.11/site-packages/sklearn/base.py:617\u001b[0m, in \u001b[0;36mBaseEstimator._validate_data\u001b[0;34m(self, X, y, reset, validate_separately, cast_to_ndarray, **check_params)\u001b[0m\n\u001b[1;32m    615\u001b[0m \u001b[38;5;28;01mif\u001b[39;00m \u001b[38;5;124m\"\u001b[39m\u001b[38;5;124mestimator\u001b[39m\u001b[38;5;124m\"\u001b[39m \u001b[38;5;129;01mnot\u001b[39;00m \u001b[38;5;129;01min\u001b[39;00m check_X_params:\n\u001b[1;32m    616\u001b[0m     check_X_params \u001b[38;5;241m=\u001b[39m {\u001b[38;5;241m*\u001b[39m\u001b[38;5;241m*\u001b[39mdefault_check_params, \u001b[38;5;241m*\u001b[39m\u001b[38;5;241m*\u001b[39mcheck_X_params}\n\u001b[0;32m--> 617\u001b[0m X \u001b[38;5;241m=\u001b[39m \u001b[43mcheck_array\u001b[49m\u001b[43m(\u001b[49m\u001b[43mX\u001b[49m\u001b[43m,\u001b[49m\u001b[43m \u001b[49m\u001b[43minput_name\u001b[49m\u001b[38;5;241;43m=\u001b[39;49m\u001b[38;5;124;43m\"\u001b[39;49m\u001b[38;5;124;43mX\u001b[39;49m\u001b[38;5;124;43m\"\u001b[39;49m\u001b[43m,\u001b[49m\u001b[43m \u001b[49m\u001b[38;5;241;43m*\u001b[39;49m\u001b[38;5;241;43m*\u001b[39;49m\u001b[43mcheck_X_params\u001b[49m\u001b[43m)\u001b[49m\n\u001b[1;32m    618\u001b[0m \u001b[38;5;28;01mif\u001b[39;00m \u001b[38;5;124m\"\u001b[39m\u001b[38;5;124mestimator\u001b[39m\u001b[38;5;124m\"\u001b[39m \u001b[38;5;129;01mnot\u001b[39;00m \u001b[38;5;129;01min\u001b[39;00m check_y_params:\n\u001b[1;32m    619\u001b[0m     check_y_params \u001b[38;5;241m=\u001b[39m {\u001b[38;5;241m*\u001b[39m\u001b[38;5;241m*\u001b[39mdefault_check_params, \u001b[38;5;241m*\u001b[39m\u001b[38;5;241m*\u001b[39mcheck_y_params}\n",
      "File \u001b[0;32m/opt/homebrew/Caskroom/miniforge/base/envs/stats/lib/python3.11/site-packages/sklearn/utils/validation.py:967\u001b[0m, in \u001b[0;36mcheck_array\u001b[0;34m(array, accept_sparse, accept_large_sparse, dtype, order, copy, force_all_finite, ensure_2d, allow_nd, ensure_min_samples, ensure_min_features, estimator, input_name)\u001b[0m\n\u001b[1;32m    965\u001b[0m     n_samples \u001b[38;5;241m=\u001b[39m _num_samples(array)\n\u001b[1;32m    966\u001b[0m     \u001b[38;5;28;01mif\u001b[39;00m n_samples \u001b[38;5;241m<\u001b[39m ensure_min_samples:\n\u001b[0;32m--> 967\u001b[0m         \u001b[38;5;28;01mraise\u001b[39;00m \u001b[38;5;167;01mValueError\u001b[39;00m(\n\u001b[1;32m    968\u001b[0m             \u001b[38;5;124m\"\u001b[39m\u001b[38;5;124mFound array with \u001b[39m\u001b[38;5;132;01m%d\u001b[39;00m\u001b[38;5;124m sample(s) (shape=\u001b[39m\u001b[38;5;132;01m%s\u001b[39;00m\u001b[38;5;124m) while a\u001b[39m\u001b[38;5;124m\"\u001b[39m\n\u001b[1;32m    969\u001b[0m             \u001b[38;5;124m\"\u001b[39m\u001b[38;5;124m minimum of \u001b[39m\u001b[38;5;132;01m%d\u001b[39;00m\u001b[38;5;124m is required\u001b[39m\u001b[38;5;132;01m%s\u001b[39;00m\u001b[38;5;124m.\u001b[39m\u001b[38;5;124m\"\u001b[39m\n\u001b[1;32m    970\u001b[0m             \u001b[38;5;241m%\u001b[39m (n_samples, array\u001b[38;5;241m.\u001b[39mshape, ensure_min_samples, context)\n\u001b[1;32m    971\u001b[0m         )\n\u001b[1;32m    973\u001b[0m \u001b[38;5;28;01mif\u001b[39;00m ensure_min_features \u001b[38;5;241m>\u001b[39m \u001b[38;5;241m0\u001b[39m \u001b[38;5;129;01mand\u001b[39;00m array\u001b[38;5;241m.\u001b[39mndim \u001b[38;5;241m==\u001b[39m \u001b[38;5;241m2\u001b[39m:\n\u001b[1;32m    974\u001b[0m     n_features \u001b[38;5;241m=\u001b[39m array\u001b[38;5;241m.\u001b[39mshape[\u001b[38;5;241m1\u001b[39m]\n",
      "\u001b[0;31mValueError\u001b[0m: Found array with 0 sample(s) (shape=(0, 5)) while a minimum of 1 is required by DecisionTreeRegressor."
     ]
    }
   ],
   "source": [
    "'''\n",
    "Predict A/FUJIAN/140/2000 between\n",
    "- S5->s14\n",
    "- S3->s14\n",
    "- S1->s14\n",
    "Using random viruses first\n",
    "\n",
    "The train trees on Ta's virues\n",
    "'''\n",
    "\n",
    "feature_t = \"A/FUJIAN/140/2000\"\n",
    "# Load whole data and construct feature based on table membership\n",
    "flu_df = pd.read_csv(\"../CrossStudyCompletion/Matrix Completion in R/InfluenzaData.csv\", sep=',')\n",
    "sera = flu_df['Measurements (Sera in Rows/Viruses in Columns)'].tolist()\n",
    "sera_tables = [i[i.index('Table'):] for i in sera]\n",
    "table_keys = set(sera_tables)\n",
    "flu_df['sera_table'] = sera_tables\n",
    "# Construct table dict that assigns entries (vals) to their respective table groups (keys e.g. S5, S13, S14)\n",
    "flu_table_dict = {table_key: flu_df.loc[flu_df['sera_table']==table_key] for table_key in table_keys}\n",
    "filtered_flu_table_dict = {key: non_trivialize_df(arg) for key, arg in list(flu_table_dict.items())}\n",
    "# Index and log scale data\n",
    "data_df = flu_df.set_index(\"Measurements (Sera in Rows/Viruses in Columns)\")\n",
    "data_df = data_df.applymap(lambda x: pd.to_numeric(x, errors='coerce') )\n",
    "data_df = np.log10(data_df)\n",
    "data_df['sera_table'] = sera_tables # Assign table group to each entry in whole data\n",
    "\n",
    "# Perform between table analyses\n",
    "results_dict = dict()\n",
    "predict_table = 'TableS14'\n",
    "train_tables = ['TableS5', 'TableS3', 'TableS13']\n",
    "for train_table in train_tables:\n",
    "    data_t = data_df.loc[data_df['sera_table']==predict_table].drop(['sera_table'], axis=1)\n",
    "    data_s = data_df.loc[data_df['sera_table']==train_table].drop(['sera_table'], axis=1)\n",
    "    data_s_list = [data_s] # single dataframe placed in a list\n",
    "    # Might wanna store tree models maybe\n",
    "    results = RF_complete(data_t = data_t,\n",
    "                      data_s_list=[data_s],\n",
    "                      feature_t=feature_t)\n",
    "    title = f'{train_table} to {predict_table}'\n",
    "    results_dict[title] = results\n"
   ]
  },
  {
   "cell_type": "code",
   "execution_count": 265,
   "id": "e03b8098",
   "metadata": {},
   "outputs": [
    {
     "data": {
      "text/plain": [
       "{'TableS5 to TableS14': None,\n",
       " 'TableS3 to TableS14': None,\n",
       " 'TableS13 to TableS14': None}"
      ]
     },
     "execution_count": 265,
     "metadata": {},
     "output_type": "execute_result"
    }
   ],
   "source": [
    "# Create subplots\n",
    "fig, axs = plt.subplots(nrows=1, ncols=3, figsize=(30,15))\n",
    "for idx, key in enumerate(list(results_dict.keys())):\n",
    "    x_data = data_t\n",
    "    y_data = results_dict[key]['predictions']\n",
    "    axs[idx].scatter(x_data, y_data, alpha=0.5)\n",
    "    axs[idx].set_xlabel(\"log10(HAI Measurements)\")\n",
    "    axs[idx].set_ylabel(\"log10(Predicted Values)\")\n",
    "    axs[idx].set_title(f\"{key} Predicted Error Bars\")\n",
    "    axs[idx].errorbar(data_t[feature_t], y_data,\n",
    "             yerr=results['errors'], fmt='o', capsize=5, label=\"Error Bars\")\n",
    "plt.grid(True)\n",
    "plt.show()"
   ]
  },
  {
   "cell_type": "code",
   "execution_count": 88,
   "id": "2dd03941",
   "metadata": {},
   "outputs": [
    {
     "data": {
      "image/png": "[encoded data removed]",
      "text/plain": [
       "<Figure size 800x600 with 1 Axes>"
      ]
     },
     "metadata": {},
     "output_type": "display_data"
    }
   ],
   "source": [
    "import matplotlib.pyplot as plt\n",
    "\n",
    "# Assuming 'feature.t' is the feature you want to use as the x-axis\n",
    "x_data = data_t[feature_t]\n",
    "\n",
    "# 'out' contains the predictions\n",
    "y_data = results['predictions']\n",
    "\n",
    "# Create the scatter plot\n",
    "plt.figure(figsize=(8, 6))\n",
    "plt.scatter(x_data, y_data, alpha=0.5)\n",
    "plt.xlabel(\"log10(HAI Measurements)\")\n",
    "plt.ylabel(\"log10(Predicted Values)\")\n",
    "plt.title(\"Scatter Plot With Predicted Error Bars\")\n",
    "plt.grid(True)\n",
    "\n",
    "\n",
    "plt.errorbar(data_t[feature_t], y_data,\n",
    "             yerr=results['errors'], fmt='o', capsize=5, label=\"Error Bars\")\n",
    "\n",
    "# Actual prediction error (as n-folds)\n",
    "# actual_error = 10 ** np.sqrt(np.mean((np.log10(y_train) - np.log10(y_pred)) ** 2))\n",
    "# print(\"Actual Prediction Error (as n-folds):\", actual_error)\n",
    "\n",
    "\n",
    "plt.show()"
   ]
  },
  {
   "cell_type": "code",
   "execution_count": 43,
   "id": "175fd2e6",
   "metadata": {},
   "outputs": [
    {
     "data": {
      "text/plain": [
       "'TableS14'"
      ]
     },
     "execution_count": 43,
     "metadata": {},
     "output_type": "execute_result"
    }
   ],
   "source": [
    "data_t\n",
    "predict_table"
   ]
  },
  {
   "cell_type": "code",
   "execution_count": 44,
   "id": "40bf5380",
   "metadata": {},
   "outputs": [
    {
     "data": {
      "text/plain": [
       "array(['TableS1', 'TableS3', 'TableS5', 'TableS6', 'TableS13', 'TableS14'],\n",
       "      dtype=object)"
      ]
     },
     "execution_count": 44,
     "metadata": {},
     "output_type": "execute_result"
    }
   ],
   "source": [
    "data_df['sera_table'].unique()"
   ]
  },
  {
   "cell_type": "code",
   "execution_count": 255,
   "id": "4a9359c7",
   "metadata": {},
   "outputs": [],
   "source": [
    "data_t = data_df.loc[data_df['sera_table']==predict_table].drop(['sera_table'], axis=1)\n",
    "data_s_list = [\n",
    "          data_df.loc[data_df['sera_table']=='TableS13'].drop(['sera_table'], axis=1),\n",
    "          data_df.loc[data_df['sera_table']=='TableS6'].drop(['sera_table'], axis=1),\n",
    "          data_df.loc[data_df['sera_table']=='TableS5'].drop(['sera_table'], axis=1),\n",
    "         ]\n",
    "feature_t = \"A/PANAMA/2007/99\""
   ]
  },
  {
   "cell_type": "code",
   "execution_count": 256,
   "id": "067312b1",
   "metadata": {},
   "outputs": [
    {
     "name": "stdout",
     "output_type": "stream",
     "text": [
      "3 additional datasets used for prediction.\n",
      "Feature-of-interest located!\n",
      "data_assist shape: (160, 81)\n",
      "Iterating over 81\n",
      "feature_t check 0 A/AUCKLAND/5/96\n",
      "(160, 5)\n",
      "[0.37189581 0.27945251 0.30832609 0.28013481 0.25027489]\n",
      "5 <class 'int'>\n",
      "np.ones(1, n_best_tree) shape (1, 5)\n",
      "colm_t shape (160,)\n",
      "feature_t check 0 A/BRISBANE/22/94\n"
     ]
    },
    {
     "name": "stderr",
     "output_type": "stream",
     "text": [
      "/var/folders/q6/5c5n0y556yndkylpbylqpymc0000gn/T/ipykernel_27200/3319060450.py:202: RuntimeWarning: Mean of empty slice\n",
      "  mu = np.nanmean(pred_list, axis=1)\n",
      "/var/folders/q6/5c5n0y556yndkylpbylqpymc0000gn/T/ipykernel_27200/3319060450.py:202: RuntimeWarning: Mean of empty slice\n",
      "  mu = np.nanmean(pred_list, axis=1)\n"
     ]
    },
    {
     "name": "stdout",
     "output_type": "stream",
     "text": [
      "(160, 5)\n",
      "[0.30148824 0.3868342  0.33727764 0.32510303 0.24289709]\n",
      "5 <class 'int'>\n",
      "np.ones(1, n_best_tree) shape (1, 5)\n",
      "colm_t shape (160,)\n",
      "feature_t check 0 A/CHRISTCHURCH/1/96\n",
      "(160, 5)\n",
      "[0.19722312 0.26959122 0.2626321  0.25164877 0.29235242]\n",
      "5 <class 'int'>\n",
      "np.ones(1, n_best_tree) shape (1, 5)\n",
      "colm_t shape (160,)\n",
      "feature_t check 0 A/FUJIAN/140/2000\n"
     ]
    },
    {
     "name": "stderr",
     "output_type": "stream",
     "text": [
      "/var/folders/q6/5c5n0y556yndkylpbylqpymc0000gn/T/ipykernel_27200/3319060450.py:202: RuntimeWarning: Mean of empty slice\n",
      "  mu = np.nanmean(pred_list, axis=1)\n",
      "/var/folders/q6/5c5n0y556yndkylpbylqpymc0000gn/T/ipykernel_27200/3319060450.py:202: RuntimeWarning: Mean of empty slice\n",
      "  mu = np.nanmean(pred_list, axis=1)\n"
     ]
    },
    {
     "name": "stdout",
     "output_type": "stream",
     "text": [
      "(160, 5)\n",
      "[0.18290003 0.30023447 0.30468654 0.26032972 0.17083444]\n",
      "5 <class 'int'>\n",
      "np.ones(1, n_best_tree) shape (1, 5)\n",
      "colm_t shape (160,)\n",
      "feature_t check 0 A/NEW_YORK/55/2004\n",
      "(160, 5)\n",
      "[0.2061206  0.33917918 0.36581966 0.33852705 0.26597625]\n",
      "5 <class 'int'>\n",
      "np.ones(1, n_best_tree) shape (1, 5)\n",
      "colm_t shape (160,)\n",
      "feature_t check 0 A/PANAMA/2007/99\n"
     ]
    },
    {
     "name": "stderr",
     "output_type": "stream",
     "text": [
      "/var/folders/q6/5c5n0y556yndkylpbylqpymc0000gn/T/ipykernel_27200/3319060450.py:202: RuntimeWarning: Mean of empty slice\n",
      "  mu = np.nanmean(pred_list, axis=1)\n",
      "/var/folders/q6/5c5n0y556yndkylpbylqpymc0000gn/T/ipykernel_27200/3319060450.py:202: RuntimeWarning: Mean of empty slice\n",
      "  mu = np.nanmean(pred_list, axis=1)\n"
     ]
    },
    {
     "name": "stdout",
     "output_type": "stream",
     "text": [
      "(160, 5)\n",
      "[0.2619707  0.23342092 0.3206923  0.2826189  0.22569334]\n",
      "5 <class 'int'>\n",
      "np.ones(1, n_best_tree) shape (1, 5)\n",
      "colm_t shape (160,)\n",
      "feature_t check 0 A/PERTH/16/2009\n",
      "(160, 5)\n",
      "[0.33642809 0.3599341  0.4251709  0.36238656 0.32599096]\n",
      "5 <class 'int'>\n",
      "np.ones(1, n_best_tree) shape (1, 5)\n",
      "colm_t shape (160,)\n",
      "feature_t check 0 A/PERTH/27/2007\n"
     ]
    },
    {
     "name": "stderr",
     "output_type": "stream",
     "text": [
      "/var/folders/q6/5c5n0y556yndkylpbylqpymc0000gn/T/ipykernel_27200/3319060450.py:202: RuntimeWarning: Mean of empty slice\n",
      "  mu = np.nanmean(pred_list, axis=1)\n",
      "/var/folders/q6/5c5n0y556yndkylpbylqpymc0000gn/T/ipykernel_27200/3319060450.py:202: RuntimeWarning: Mean of empty slice\n",
      "  mu = np.nanmean(pred_list, axis=1)\n"
     ]
    },
    {
     "name": "stdout",
     "output_type": "stream",
     "text": [
      "(160, 5)\n",
      "[0.25717977 0.22541817 0.25063441 0.24828014 0.21323635]\n",
      "5 <class 'int'>\n",
      "np.ones(1, n_best_tree) shape (1, 5)\n",
      "colm_t shape (160,)\n",
      "feature_t check 0 A/TASMANIA/1/97\n",
      "(160, 5)\n",
      "[0.30169577 0.23368652 0.27326249 0.32507061 0.2839393 ]\n",
      "5 <class 'int'>\n",
      "np.ones(1, n_best_tree) shape (1, 5)\n",
      "colm_t shape (160,)\n",
      "feature_t check 0 A/VICTORIA/1/93\n"
     ]
    },
    {
     "name": "stderr",
     "output_type": "stream",
     "text": [
      "/var/folders/q6/5c5n0y556yndkylpbylqpymc0000gn/T/ipykernel_27200/3319060450.py:202: RuntimeWarning: Mean of empty slice\n",
      "  mu = np.nanmean(pred_list, axis=1)\n",
      "/var/folders/q6/5c5n0y556yndkylpbylqpymc0000gn/T/ipykernel_27200/3319060450.py:202: RuntimeWarning: Mean of empty slice\n",
      "  mu = np.nanmean(pred_list, axis=1)\n"
     ]
    },
    {
     "name": "stdout",
     "output_type": "stream",
     "text": [
      "(160, 5)\n",
      "[0.34546908 0.30528806 0.31506457 0.3443287  0.24064592]\n",
      "5 <class 'int'>\n",
      "np.ones(1, n_best_tree) shape (1, 5)\n",
      "colm_t shape (160,)\n",
      "feature_t check 0 A/VICTORIA/110/2004\n",
      "(160, 5)\n",
      "[0.2534038  0.30085886 0.33738022 0.32686624 0.21547095]\n",
      "5 <class 'int'>\n",
      "np.ones(1, n_best_tree) shape (1, 5)\n",
      "colm_t shape (160,)\n",
      "feature_t check 0 A/WELLINGTON/96/93\n"
     ]
    },
    {
     "name": "stderr",
     "output_type": "stream",
     "text": [
      "/var/folders/q6/5c5n0y556yndkylpbylqpymc0000gn/T/ipykernel_27200/3319060450.py:202: RuntimeWarning: Mean of empty slice\n",
      "  mu = np.nanmean(pred_list, axis=1)\n",
      "/var/folders/q6/5c5n0y556yndkylpbylqpymc0000gn/T/ipykernel_27200/3319060450.py:202: RuntimeWarning: Mean of empty slice\n",
      "  mu = np.nanmean(pred_list, axis=1)\n"
     ]
    },
    {
     "name": "stdout",
     "output_type": "stream",
     "text": [
      "(160, 5)\n",
      "[0.27675124 0.37893046 0.37327065 0.3536926  0.28720152]\n",
      "5 <class 'int'>\n",
      "np.ones(1, n_best_tree) shape (1, 5)\n",
      "colm_t shape (160,)\n",
      "feature_t check 0 BI/16190/68\n",
      "(160, 5)\n",
      "[0.39673988 0.47872003 0.45074884 0.44189103 0.38328329]\n",
      "5 <class 'int'>\n",
      "np.ones(1, n_best_tree) shape (1, 5)\n",
      "colm_t shape (160,)\n",
      "feature_t check 0 BI/1761/76\n"
     ]
    },
    {
     "name": "stderr",
     "output_type": "stream",
     "text": [
      "/var/folders/q6/5c5n0y556yndkylpbylqpymc0000gn/T/ipykernel_27200/3319060450.py:202: RuntimeWarning: Mean of empty slice\n",
      "  mu = np.nanmean(pred_list, axis=1)\n",
      "/var/folders/q6/5c5n0y556yndkylpbylqpymc0000gn/T/ipykernel_27200/3319060450.py:202: RuntimeWarning: Mean of empty slice\n",
      "  mu = np.nanmean(pred_list, axis=1)\n"
     ]
    },
    {
     "name": "stdout",
     "output_type": "stream",
     "text": [
      "(160, 5)\n",
      "[0.35992322 0.3384052  0.42626796 0.3532073  0.35320301]\n",
      "5 <class 'int'>\n",
      "np.ones(1, n_best_tree) shape (1, 5)\n",
      "colm_t shape (160,)\n",
      "feature_t check 0 BI/2271/76\n",
      "(160, 5)\n",
      "[0.34636635 0.33113302 0.33199414 0.318432   0.39434973]\n",
      "5 <class 'int'>\n",
      "np.ones(1, n_best_tree) shape (1, 5)\n",
      "colm_t shape (160,)\n",
      "feature_t check 0 NL/233/82\n"
     ]
    },
    {
     "name": "stderr",
     "output_type": "stream",
     "text": [
      "/var/folders/q6/5c5n0y556yndkylpbylqpymc0000gn/T/ipykernel_27200/3319060450.py:202: RuntimeWarning: Mean of empty slice\n",
      "  mu = np.nanmean(pred_list, axis=1)\n",
      "/var/folders/q6/5c5n0y556yndkylpbylqpymc0000gn/T/ipykernel_27200/3319060450.py:202: RuntimeWarning: Mean of empty slice\n",
      "  mu = np.nanmean(pred_list, axis=1)\n"
     ]
    },
    {
     "name": "stdout",
     "output_type": "stream",
     "text": [
      "(160, 5)\n",
      "[0.32704597 0.38728541 0.38954316 0.33709826 0.32803941]\n",
      "5 <class 'int'>\n",
      "np.ones(1, n_best_tree) shape (1, 5)\n",
      "colm_t shape (160,)\n",
      "feature_t check 0 NL/620/89\n",
      "(160, 5)\n",
      "[0.29490592 0.40887652 0.41219545 0.41214168 0.30381163]\n",
      "5 <class 'int'>\n",
      "np.ones(1, n_best_tree) shape (1, 5)\n",
      "colm_t shape (160,)\n",
      "feature_t check 0 NL/823/92\n"
     ]
    },
    {
     "name": "stderr",
     "output_type": "stream",
     "text": [
      "/var/folders/q6/5c5n0y556yndkylpbylqpymc0000gn/T/ipykernel_27200/3319060450.py:202: RuntimeWarning: Mean of empty slice\n",
      "  mu = np.nanmean(pred_list, axis=1)\n",
      "/var/folders/q6/5c5n0y556yndkylpbylqpymc0000gn/T/ipykernel_27200/3319060450.py:202: RuntimeWarning: Mean of empty slice\n",
      "  mu = np.nanmean(pred_list, axis=1)\n"
     ]
    },
    {
     "name": "stdout",
     "output_type": "stream",
     "text": [
      "(160, 5)\n",
      "[0.47811811 0.35435465 0.36083611 0.34116972 0.29254248]\n",
      "5 <class 'int'>\n",
      "np.ones(1, n_best_tree) shape (1, 5)\n",
      "colm_t shape (160,)\n",
      "feature_t check 0 VN016/EL135/2008\n",
      "(160, 5)\n",
      "[0.27239368 0.28659479 0.27235619 0.23776353 0.22816129]\n",
      "5 <class 'int'>\n",
      "np.ones(1, n_best_tree) shape (1, 5)\n",
      "colm_t shape (160,)\n",
      "feature_t check 0 VN053/2010\n"
     ]
    },
    {
     "name": "stderr",
     "output_type": "stream",
     "text": [
      "/var/folders/q6/5c5n0y556yndkylpbylqpymc0000gn/T/ipykernel_27200/3319060450.py:202: RuntimeWarning: Mean of empty slice\n",
      "  mu = np.nanmean(pred_list, axis=1)\n",
      "/var/folders/q6/5c5n0y556yndkylpbylqpymc0000gn/T/ipykernel_27200/3319060450.py:202: RuntimeWarning: Mean of empty slice\n",
      "  mu = np.nanmean(pred_list, axis=1)\n"
     ]
    },
    {
     "name": "stdout",
     "output_type": "stream",
     "text": [
      "(160, 5)\n",
      "[0.21569191 0.29239531 0.23886345 0.28676115 0.28390953]\n",
      "5 <class 'int'>\n",
      "np.ones(1, n_best_tree) shape (1, 5)\n",
      "colm_t shape (160,)\n",
      "Doing lm stuff\n",
      "['a=0.932', 'b=0.087', 'c=0.047']\n",
      "feature_t check 0 A/PANAMA/2007/99\n",
      "(160, 5)\n",
      "[0.25601147 0.31704404 0.26877067 0.23910276 0.23334919]\n",
      "5 <class 'int'>\n",
      "np.ones(1, n_best_tree) shape (1, 5)\n",
      "colm_t shape (160,)\n",
      "rf_1t1: {'mu': array([0.63733053, 1.27594416, 1.06522317, 1.27575119, 1.23692176,\n",
      "       1.32217377, 2.10182553, 2.11631957, 1.26590983, 1.41809722,\n",
      "       1.91794852, 1.18814375, 1.32217377, 0.76275969, 1.91042277,\n",
      "       1.87298699, 1.85040974, 1.11145277, 2.62528325, 0.90467383,\n",
      "       1.81194479, 1.63467157, 0.5971932 , 1.87967654, 1.29331128,\n",
      "       1.94888771, 1.64609956, 1.07860228, 2.00574893, 0.97013591,\n",
      "       1.29601283, 1.1816931 , 2.19074087, 1.25945919, 1.58096216,\n",
      "       1.83767385, 1.0752575 , 0.96719545, 1.63698719, 0.7742275 ,\n",
      "       1.98568027, 1.19296795, 1.16453734, 1.4657603 , 1.87298699,\n",
      "       1.63698719, 0.57855801, 2.60939555, 1.67536637, 2.02991281,\n",
      "       2.00761429, 1.9300251 , 1.06773175, 2.05026021, 1.5410178 ,\n",
      "              nan, 2.17800499, 0.60221036, 0.85951934, 1.98568027,\n",
      "       0.95651789, 1.36020683, 1.06271458, 2.55838769, 1.36481969,\n",
      "       2.27240919, 1.26488067, 1.96812018, 1.01863519, 2.08677403,\n",
      "       1.38863744, 0.53197003, 2.0510964 , 1.88608737, 0.6122447 ,\n",
      "       2.18460878, 2.09764456, 1.98085607, 1.60456857, 2.00566317,\n",
      "       1.02675822, 1.6934441 , 1.3461845 , 1.3171566 , 1.11790341,\n",
      "       1.38739693, 2.05842918, 2.01203418, 1.31966519, 1.40889908,\n",
      "       2.1453934 , 1.49148936, 1.4676716 , 1.030103  , 2.63874812,\n",
      "       2.25094687, 1.86861305, 1.24942485, 2.57511158, 1.22433902,\n",
      "       2.2365386 , 1.8000451 , 0.55956445, 2.25429165, 1.26949352,\n",
      "       1.88617313, 1.71224469, 0.97658656, 2.17652557, 0.53197003,\n",
      "       1.43816588, 1.48941266, 2.45478534, 1.37485402, 1.70909288,\n",
      "       1.77682463, 1.70630556, 1.04622961, 1.51593196, 0.69395284,\n",
      "       1.91312432, 1.11396136, 1.50654086, 1.54185399, 1.85774252,\n",
      "       1.9965508 , 1.04873819, 2.60939555, 2.02656803, 2.44801003,\n",
      "       1.93486538, 2.51190922, 1.47412224, 1.98233549, 1.6764813 ,\n",
      "              nan, 2.30092557, 0.63231336, 1.20904861, 2.09773032,\n",
      "       1.09532617, 1.06689555, 1.35036547, 2.57009441, 1.40161224,\n",
      "       2.66291199, 1.37525833, 1.68214169, 1.47077747, 1.98141353,\n",
      "       1.19423602, 1.03368669, 2.40397045, 1.68883124, 1.05041058,\n",
      "       2.2423062 , 2.04998148, 1.91200939, 2.07849785, 2.24732336]), 'true_err': array([0.25601147, 0.31704404, 0.26877067, 0.23910276, 0.23334919]), 'pred_err': [0.18002388155570112, 0.19808384077269262, 0.20728552544144319, 0.2228303865078223, 0.23356166452627455]}\n",
      "data_assist shape: (256, 81)\n",
      "Iterating over 81\n",
      "feature_t check 0 A/AUCKLAND/5/96\n"
     ]
    },
    {
     "name": "stderr",
     "output_type": "stream",
     "text": [
      "/var/folders/q6/5c5n0y556yndkylpbylqpymc0000gn/T/ipykernel_27200/3319060450.py:202: RuntimeWarning: Mean of empty slice\n",
      "  mu = np.nanmean(pred_list, axis=1)\n",
      "/var/folders/q6/5c5n0y556yndkylpbylqpymc0000gn/T/ipykernel_27200/3319060450.py:202: RuntimeWarning: Mean of empty slice\n",
      "  mu = np.nanmean(pred_list, axis=1)\n"
     ]
    },
    {
     "name": "stdout",
     "output_type": "stream",
     "text": [
      "(160, 5)\n",
      "[0.43411081 0.56211524 0.3188224  0.33760648 0.47089072]\n",
      "5 <class 'int'>\n",
      "np.ones(1, n_best_tree) shape (1, 5)\n",
      "colm_t shape (160,)\n",
      "feature_t check 0 A/BRISBANE/22/94\n",
      "(160, 5)\n",
      "[0.40832719 0.51775311 0.27154641 0.46033502 0.26468908]\n",
      "5 <class 'int'>\n",
      "np.ones(1, n_best_tree) shape (1, 5)\n",
      "colm_t shape (160,)\n",
      "feature_t check 0 A/CHRISTCHURCH/1/96\n"
     ]
    },
    {
     "name": "stderr",
     "output_type": "stream",
     "text": [
      "/var/folders/q6/5c5n0y556yndkylpbylqpymc0000gn/T/ipykernel_27200/3319060450.py:202: RuntimeWarning: Mean of empty slice\n",
      "  mu = np.nanmean(pred_list, axis=1)\n",
      "/var/folders/q6/5c5n0y556yndkylpbylqpymc0000gn/T/ipykernel_27200/3319060450.py:202: RuntimeWarning: Mean of empty slice\n",
      "  mu = np.nanmean(pred_list, axis=1)\n"
     ]
    },
    {
     "name": "stdout",
     "output_type": "stream",
     "text": [
      "(160, 5)\n",
      "[0.27322618 0.27347342 0.42534969 0.24108983 0.1895168 ]\n",
      "5 <class 'int'>\n",
      "np.ones(1, n_best_tree) shape (1, 5)\n",
      "colm_t shape (160,)\n",
      "feature_t check 0 A/FUJIAN/140/2000\n",
      "(160, 5)\n",
      "[0.35252514 0.23328103 0.27452564 0.29140399 0.34192429]\n",
      "5 <class 'int'>\n",
      "np.ones(1, n_best_tree) shape (1, 5)\n",
      "colm_t shape (160,)\n",
      "feature_t check 0 A/NEW_YORK/55/2004\n"
     ]
    },
    {
     "name": "stderr",
     "output_type": "stream",
     "text": [
      "/var/folders/q6/5c5n0y556yndkylpbylqpymc0000gn/T/ipykernel_27200/3319060450.py:202: RuntimeWarning: Mean of empty slice\n",
      "  mu = np.nanmean(pred_list, axis=1)\n",
      "/var/folders/q6/5c5n0y556yndkylpbylqpymc0000gn/T/ipykernel_27200/3319060450.py:202: RuntimeWarning: Mean of empty slice\n",
      "  mu = np.nanmean(pred_list, axis=1)\n"
     ]
    },
    {
     "name": "stdout",
     "output_type": "stream",
     "text": [
      "(160, 5)\n",
      "[0.42778496 0.48402493 0.62624826 0.61873781 0.69699328]\n",
      "5 <class 'int'>\n",
      "np.ones(1, n_best_tree) shape (1, 5)\n",
      "colm_t shape (160,)\n",
      "feature_t check 0 A/PANAMA/2007/99\n",
      "(160, 5)\n",
      "[0.3969614  0.31713483 0.39899758 0.48157634 0.32197523]\n",
      "5 <class 'int'>\n",
      "np.ones(1, n_best_tree) shape (1, 5)\n",
      "colm_t shape (160,)\n",
      "feature_t check 0 A/PERTH/16/2009\n"
     ]
    },
    {
     "name": "stderr",
     "output_type": "stream",
     "text": [
      "/var/folders/q6/5c5n0y556yndkylpbylqpymc0000gn/T/ipykernel_27200/3319060450.py:202: RuntimeWarning: Mean of empty slice\n",
      "  mu = np.nanmean(pred_list, axis=1)\n",
      "/var/folders/q6/5c5n0y556yndkylpbylqpymc0000gn/T/ipykernel_27200/3319060450.py:202: RuntimeWarning: Mean of empty slice\n",
      "  mu = np.nanmean(pred_list, axis=1)\n"
     ]
    },
    {
     "name": "stdout",
     "output_type": "stream",
     "text": [
      "(160, 5)\n",
      "[0.4022574  0.34141887 0.41919508 0.3586063  0.33925054]\n",
      "5 <class 'int'>\n",
      "np.ones(1, n_best_tree) shape (1, 5)\n",
      "colm_t shape (160,)\n",
      "feature_t check 0 A/PERTH/27/2007\n",
      "(160, 5)\n",
      "[0.44950054 0.34593451 0.45394178 0.3375619  0.29495334]\n",
      "5 <class 'int'>\n",
      "np.ones(1, n_best_tree) shape (1, 5)\n",
      "colm_t shape (160,)\n",
      "feature_t check 0 A/TASMANIA/1/97\n"
     ]
    },
    {
     "name": "stderr",
     "output_type": "stream",
     "text": [
      "/var/folders/q6/5c5n0y556yndkylpbylqpymc0000gn/T/ipykernel_27200/3319060450.py:202: RuntimeWarning: Mean of empty slice\n",
      "  mu = np.nanmean(pred_list, axis=1)\n",
      "/var/folders/q6/5c5n0y556yndkylpbylqpymc0000gn/T/ipykernel_27200/3319060450.py:202: RuntimeWarning: Mean of empty slice\n",
      "  mu = np.nanmean(pred_list, axis=1)\n"
     ]
    },
    {
     "name": "stdout",
     "output_type": "stream",
     "text": [
      "(160, 5)\n",
      "[0.3969937  0.41491404 0.37316382 0.49835605 0.35985425]\n",
      "5 <class 'int'>\n",
      "np.ones(1, n_best_tree) shape (1, 5)\n",
      "colm_t shape (160,)\n",
      "feature_t check 0 A/VICTORIA/1/93\n",
      "(160, 5)\n",
      "[0.42473683 0.39217773 0.47728437 0.33729429 0.35552176]\n",
      "5 <class 'int'>\n",
      "np.ones(1, n_best_tree) shape (1, 5)\n",
      "colm_t shape (160,)\n",
      "feature_t check 0 A/VICTORIA/110/2004\n"
     ]
    },
    {
     "name": "stderr",
     "output_type": "stream",
     "text": [
      "/var/folders/q6/5c5n0y556yndkylpbylqpymc0000gn/T/ipykernel_27200/3319060450.py:202: RuntimeWarning: Mean of empty slice\n",
      "  mu = np.nanmean(pred_list, axis=1)\n",
      "/var/folders/q6/5c5n0y556yndkylpbylqpymc0000gn/T/ipykernel_27200/3319060450.py:202: RuntimeWarning: Mean of empty slice\n",
      "  mu = np.nanmean(pred_list, axis=1)\n"
     ]
    },
    {
     "name": "stdout",
     "output_type": "stream",
     "text": [
      "(160, 5)\n",
      "[0.38154949 0.41294759 0.4741922  0.37568557 0.42971972]\n",
      "5 <class 'int'>\n",
      "np.ones(1, n_best_tree) shape (1, 5)\n",
      "colm_t shape (160,)\n",
      "feature_t check 0 A/WELLINGTON/96/93\n",
      "(160, 5)\n",
      "[0.32964214 0.43884686 0.33963789 0.33826794 0.34910618]\n",
      "5 <class 'int'>\n",
      "np.ones(1, n_best_tree) shape (1, 5)\n",
      "colm_t shape (160,)\n",
      "feature_t check 0 BI/16190/68\n"
     ]
    },
    {
     "name": "stderr",
     "output_type": "stream",
     "text": [
      "/var/folders/q6/5c5n0y556yndkylpbylqpymc0000gn/T/ipykernel_27200/3319060450.py:202: RuntimeWarning: Mean of empty slice\n",
      "  mu = np.nanmean(pred_list, axis=1)\n",
      "/var/folders/q6/5c5n0y556yndkylpbylqpymc0000gn/T/ipykernel_27200/3319060450.py:202: RuntimeWarning: Mean of empty slice\n",
      "  mu = np.nanmean(pred_list, axis=1)\n"
     ]
    },
    {
     "name": "stdout",
     "output_type": "stream",
     "text": [
      "(160, 5)\n",
      "[0.50881123 0.46222417 0.67320399 0.69362103 0.55646642]\n",
      "5 <class 'int'>\n",
      "np.ones(1, n_best_tree) shape (1, 5)\n",
      "colm_t shape (160,)\n",
      "feature_t check 0 BI/1761/76\n",
      "(160, 5)\n",
      "[0.40097124 0.52647815 0.57488794 0.44071241 0.40279458]\n",
      "5 <class 'int'>\n",
      "np.ones(1, n_best_tree) shape (1, 5)\n",
      "colm_t shape (160,)\n",
      "feature_t check 0 BI/2271/76\n"
     ]
    },
    {
     "name": "stderr",
     "output_type": "stream",
     "text": [
      "/var/folders/q6/5c5n0y556yndkylpbylqpymc0000gn/T/ipykernel_27200/3319060450.py:202: RuntimeWarning: Mean of empty slice\n",
      "  mu = np.nanmean(pred_list, axis=1)\n",
      "/var/folders/q6/5c5n0y556yndkylpbylqpymc0000gn/T/ipykernel_27200/3319060450.py:202: RuntimeWarning: Mean of empty slice\n",
      "  mu = np.nanmean(pred_list, axis=1)\n"
     ]
    },
    {
     "name": "stdout",
     "output_type": "stream",
     "text": [
      "(160, 5)\n",
      "[0.32815612 0.26483292 0.36794763 0.34838084 0.21385822]\n",
      "5 <class 'int'>\n",
      "np.ones(1, n_best_tree) shape (1, 5)\n",
      "colm_t shape (160,)\n",
      "feature_t check 0 NL/233/82\n",
      "(160, 5)\n",
      "[0.48227797 0.71324811 0.46739267 0.52051891 0.43581076]\n",
      "5 <class 'int'>\n",
      "np.ones(1, n_best_tree) shape (1, 5)\n",
      "colm_t shape (160,)\n",
      "feature_t check 0 NL/620/89\n"
     ]
    },
    {
     "name": "stderr",
     "output_type": "stream",
     "text": [
      "/var/folders/q6/5c5n0y556yndkylpbylqpymc0000gn/T/ipykernel_27200/3319060450.py:202: RuntimeWarning: Mean of empty slice\n",
      "  mu = np.nanmean(pred_list, axis=1)\n",
      "/var/folders/q6/5c5n0y556yndkylpbylqpymc0000gn/T/ipykernel_27200/3319060450.py:202: RuntimeWarning: Mean of empty slice\n",
      "  mu = np.nanmean(pred_list, axis=1)\n"
     ]
    },
    {
     "name": "stdout",
     "output_type": "stream",
     "text": [
      "(160, 5)\n",
      "[0.4580505  0.29666187 0.2900022  0.4276814  0.38395995]\n",
      "5 <class 'int'>\n",
      "np.ones(1, n_best_tree) shape (1, 5)\n",
      "colm_t shape (160,)\n",
      "feature_t check 0 NL/823/92\n",
      "(160, 5)\n",
      "[0.40419516 0.28979301 0.35614362 0.26459558 0.42846244]\n",
      "5 <class 'int'>\n",
      "np.ones(1, n_best_tree) shape (1, 5)\n",
      "colm_t shape (160,)\n",
      "feature_t check 0 VN016/EL135/2008\n"
     ]
    },
    {
     "name": "stderr",
     "output_type": "stream",
     "text": [
      "/var/folders/q6/5c5n0y556yndkylpbylqpymc0000gn/T/ipykernel_27200/3319060450.py:202: RuntimeWarning: Mean of empty slice\n",
      "  mu = np.nanmean(pred_list, axis=1)\n"
     ]
    },
    {
     "ename": "ValueError",
     "evalue": "Found array with 0 sample(s) (shape=(0, 5)) while a minimum of 1 is required by DecisionTreeRegressor.",
     "output_type": "error",
     "traceback": [
      "\u001b[0;31m---------------------------------------------------------------------------\u001b[0m",
      "\u001b[0;31mValueError\u001b[0m                                Traceback (most recent call last)",
      "Cell \u001b[0;32mIn[256], line 1\u001b[0m\n\u001b[0;32m----> 1\u001b[0m out \u001b[38;5;241m=\u001b[39m \u001b[43mRF_complete\u001b[49m\u001b[43m(\u001b[49m\u001b[43mdata_t\u001b[49m\u001b[43m,\u001b[49m\u001b[43m \u001b[49m\u001b[43mdata_s_list\u001b[49m\u001b[43m,\u001b[49m\u001b[43m \u001b[49m\u001b[43mfeature_t\u001b[49m\u001b[43m)\u001b[49m\n",
      "Cell \u001b[0;32mIn[248], line 46\u001b[0m, in \u001b[0;36mRF_complete\u001b[0;34m(data_t, data_s_list, feature_t, n_tree, n_feature, f_sample, n_best_tree)\u001b[0m\n\u001b[1;32m     44\u001b[0m \u001b[38;5;66;03m#             if not data_t.iloc[:, j].isna().sum() > 0: # Check this for mistake\u001b[39;00m\n\u001b[1;32m     45\u001b[0m             \u001b[38;5;28;01mif\u001b[39;00m data_t\u001b[38;5;241m.\u001b[39miloc[:, j]\u001b[38;5;241m.\u001b[39mnotna()\u001b[38;5;241m.\u001b[39msum() \u001b[38;5;241m>\u001b[39m \u001b[38;5;241m0\u001b[39m:\n\u001b[0;32m---> 46\u001b[0m                 rf_1t1 \u001b[38;5;241m=\u001b[39m \u001b[43mRF_complete_1t1\u001b[49m\u001b[43m(\u001b[49m\u001b[43mdata_assist\u001b[49m\u001b[43m,\u001b[49m\u001b[43m \u001b[49m\u001b[43mdata_t\u001b[49m\u001b[43m,\u001b[49m\u001b[43m \u001b[49m\u001b[43mfeature_t\u001b[49m\u001b[38;5;241;43m=\u001b[39;49m\u001b[43mfeature_trans\u001b[49m\u001b[43m,\u001b[49m\u001b[43m \u001b[49m\u001b[43mn_tree\u001b[49m\u001b[38;5;241;43m=\u001b[39;49m\u001b[43mn_tree\u001b[49m\u001b[43m,\u001b[49m\n\u001b[1;32m     47\u001b[0m \u001b[43m                                         \u001b[49m\u001b[43mn_feature\u001b[49m\u001b[38;5;241;43m=\u001b[39;49m\u001b[43mn_feature\u001b[49m\u001b[43m,\u001b[49m\u001b[43m \u001b[49m\u001b[43mf_sample\u001b[49m\u001b[38;5;241;43m=\u001b[39;49m\u001b[43mf_sample\u001b[49m\u001b[43m,\u001b[49m\u001b[43m \u001b[49m\u001b[43mk\u001b[49m\u001b[38;5;241;43m=\u001b[39;49m\u001b[43mk\u001b[49m\u001b[43m)\u001b[49m\n\u001b[1;32m     49\u001b[0m                 \u001b[38;5;28;01mif\u001b[39;00m rf_1t1 \u001b[38;5;129;01mis\u001b[39;00m \u001b[38;5;129;01mnot\u001b[39;00m \u001b[38;5;28;01mNone\u001b[39;00m: \u001b[38;5;66;03m# Check to see that rf_1t1 is a val and not None or a bool\u001b[39;00m\n\u001b[1;32m     50\u001b[0m                     trans_true_err\u001b[38;5;241m.\u001b[39mextend(rf_1t1[\u001b[38;5;124m\"\u001b[39m\u001b[38;5;124mtrue_err\u001b[39m\u001b[38;5;124m\"\u001b[39m])\n",
      "Cell \u001b[0;32mIn[248], line 142\u001b[0m, in \u001b[0;36mRF_complete_1t1\u001b[0;34m(data_assist, data_t, feature_t, n_tree, n_feature, f_sample, n_best_tree, k)\u001b[0m\n\u001b[1;32m    136\u001b[0m \u001b[38;5;66;03m###get decision tree and RMSE\u001b[39;00m\n\u001b[1;32m    137\u001b[0m \u001b[38;5;66;03m# import xgboost as xgb\u001b[39;00m\n\u001b[1;32m    138\u001b[0m \u001b[38;5;66;03m# Fit the model to the data (handles missing values)\u001b[39;00m\n\u001b[1;32m    139\u001b[0m \u001b[38;5;66;03m# tree.append(xgb.XGBRegressor(max_depth=5, min_child_weight=5))\u001b[39;00m\n\u001b[1;32m    140\u001b[0m \u001b[38;5;66;03m# tree[i].fit(data_train.iloc[:, :-1], data_train[\"target\"]) # Sometimes runs into nan somehow... ACTUALLY just for the outdated version of sklearn, new is fine\u001b[39;00m\n\u001b[1;32m    141\u001b[0m tree\u001b[38;5;241m.\u001b[39mappend(DecisionTreeRegressor(min_samples_split\u001b[38;5;241m=\u001b[39m\u001b[38;5;241m5\u001b[39m))\n\u001b[0;32m--> 142\u001b[0m \u001b[43mtree\u001b[49m\u001b[43m[\u001b[49m\u001b[43mi\u001b[49m\u001b[43m]\u001b[49m\u001b[38;5;241;43m.\u001b[39;49m\u001b[43mfit\u001b[49m\u001b[43m(\u001b[49m\u001b[43mdata_train\u001b[49m\u001b[38;5;241;43m.\u001b[39;49m\u001b[43miloc\u001b[49m\u001b[43m[\u001b[49m\u001b[43m:\u001b[49m\u001b[43m,\u001b[49m\u001b[43m \u001b[49m\u001b[43m:\u001b[49m\u001b[38;5;241;43m-\u001b[39;49m\u001b[38;5;241;43m1\u001b[39;49m\u001b[43m]\u001b[49m\u001b[43m,\u001b[49m\u001b[43m \u001b[49m\u001b[43mdata_train\u001b[49m\u001b[43m[\u001b[49m\u001b[38;5;124;43m\"\u001b[39;49m\u001b[38;5;124;43mtarget\u001b[39;49m\u001b[38;5;124;43m\"\u001b[39;49m\u001b[43m]\u001b[49m\u001b[43m)\u001b[49m\n\u001b[1;32m    143\u001b[0m \u001b[38;5;66;03m# Compile testing dataset\u001b[39;00m\n\u001b[1;32m    144\u001b[0m data_test \u001b[38;5;241m=\u001b[39m data_assist\u001b[38;5;241m.\u001b[39mdrop([data_assist\u001b[38;5;241m.\u001b[39mindex[idx] \u001b[38;5;28;01mfor\u001b[39;00m idx \u001b[38;5;129;01min\u001b[39;00m sample_sel], axis\u001b[38;5;241m=\u001b[39m\u001b[38;5;241m0\u001b[39m)[np\u001b[38;5;241m.\u001b[39mappend(f_sel_ind[i], feature_t)]\n",
      "File \u001b[0;32m/opt/homebrew/Caskroom/miniforge/base/envs/stats/lib/python3.11/site-packages/sklearn/base.py:1152\u001b[0m, in \u001b[0;36m_fit_context.<locals>.decorator.<locals>.wrapper\u001b[0;34m(estimator, *args, **kwargs)\u001b[0m\n\u001b[1;32m   1145\u001b[0m     estimator\u001b[38;5;241m.\u001b[39m_validate_params()\n\u001b[1;32m   1147\u001b[0m \u001b[38;5;28;01mwith\u001b[39;00m config_context(\n\u001b[1;32m   1148\u001b[0m     skip_parameter_validation\u001b[38;5;241m=\u001b[39m(\n\u001b[1;32m   1149\u001b[0m         prefer_skip_nested_validation \u001b[38;5;129;01mor\u001b[39;00m global_skip_validation\n\u001b[1;32m   1150\u001b[0m     )\n\u001b[1;32m   1151\u001b[0m ):\n\u001b[0;32m-> 1152\u001b[0m     \u001b[38;5;28;01mreturn\u001b[39;00m \u001b[43mfit_method\u001b[49m\u001b[43m(\u001b[49m\u001b[43mestimator\u001b[49m\u001b[43m,\u001b[49m\u001b[43m \u001b[49m\u001b[38;5;241;43m*\u001b[39;49m\u001b[43margs\u001b[49m\u001b[43m,\u001b[49m\u001b[43m \u001b[49m\u001b[38;5;241;43m*\u001b[39;49m\u001b[38;5;241;43m*\u001b[39;49m\u001b[43mkwargs\u001b[49m\u001b[43m)\u001b[49m\n",
      "File \u001b[0;32m/opt/homebrew/Caskroom/miniforge/base/envs/stats/lib/python3.11/site-packages/sklearn/tree/_classes.py:1320\u001b[0m, in \u001b[0;36mDecisionTreeRegressor.fit\u001b[0;34m(self, X, y, sample_weight, check_input)\u001b[0m\n\u001b[1;32m   1290\u001b[0m \u001b[38;5;129m@_fit_context\u001b[39m(prefer_skip_nested_validation\u001b[38;5;241m=\u001b[39m\u001b[38;5;28;01mTrue\u001b[39;00m)\n\u001b[1;32m   1291\u001b[0m \u001b[38;5;28;01mdef\u001b[39;00m \u001b[38;5;21mfit\u001b[39m(\u001b[38;5;28mself\u001b[39m, X, y, sample_weight\u001b[38;5;241m=\u001b[39m\u001b[38;5;28;01mNone\u001b[39;00m, check_input\u001b[38;5;241m=\u001b[39m\u001b[38;5;28;01mTrue\u001b[39;00m):\n\u001b[1;32m   1292\u001b[0m \u001b[38;5;250m    \u001b[39m\u001b[38;5;124;03m\"\"\"Build a decision tree regressor from the training set (X, y).\u001b[39;00m\n\u001b[1;32m   1293\u001b[0m \n\u001b[1;32m   1294\u001b[0m \u001b[38;5;124;03m    Parameters\u001b[39;00m\n\u001b[0;32m   (...)\u001b[0m\n\u001b[1;32m   1317\u001b[0m \u001b[38;5;124;03m        Fitted estimator.\u001b[39;00m\n\u001b[1;32m   1318\u001b[0m \u001b[38;5;124;03m    \"\"\"\u001b[39;00m\n\u001b[0;32m-> 1320\u001b[0m     \u001b[38;5;28;43msuper\u001b[39;49m\u001b[43m(\u001b[49m\u001b[43m)\u001b[49m\u001b[38;5;241;43m.\u001b[39;49m\u001b[43m_fit\u001b[49m\u001b[43m(\u001b[49m\n\u001b[1;32m   1321\u001b[0m \u001b[43m        \u001b[49m\u001b[43mX\u001b[49m\u001b[43m,\u001b[49m\n\u001b[1;32m   1322\u001b[0m \u001b[43m        \u001b[49m\u001b[43my\u001b[49m\u001b[43m,\u001b[49m\n\u001b[1;32m   1323\u001b[0m \u001b[43m        \u001b[49m\u001b[43msample_weight\u001b[49m\u001b[38;5;241;43m=\u001b[39;49m\u001b[43msample_weight\u001b[49m\u001b[43m,\u001b[49m\n\u001b[1;32m   1324\u001b[0m \u001b[43m        \u001b[49m\u001b[43mcheck_input\u001b[49m\u001b[38;5;241;43m=\u001b[39;49m\u001b[43mcheck_input\u001b[49m\u001b[43m,\u001b[49m\n\u001b[1;32m   1325\u001b[0m \u001b[43m    \u001b[49m\u001b[43m)\u001b[49m\n\u001b[1;32m   1326\u001b[0m     \u001b[38;5;28;01mreturn\u001b[39;00m \u001b[38;5;28mself\u001b[39m\n",
      "File \u001b[0;32m/opt/homebrew/Caskroom/miniforge/base/envs/stats/lib/python3.11/site-packages/sklearn/tree/_classes.py:242\u001b[0m, in \u001b[0;36mBaseDecisionTree._fit\u001b[0;34m(self, X, y, sample_weight, check_input, missing_values_in_feature_mask)\u001b[0m\n\u001b[1;32m    238\u001b[0m check_X_params \u001b[38;5;241m=\u001b[39m \u001b[38;5;28mdict\u001b[39m(\n\u001b[1;32m    239\u001b[0m     dtype\u001b[38;5;241m=\u001b[39mDTYPE, accept_sparse\u001b[38;5;241m=\u001b[39m\u001b[38;5;124m\"\u001b[39m\u001b[38;5;124mcsc\u001b[39m\u001b[38;5;124m\"\u001b[39m, force_all_finite\u001b[38;5;241m=\u001b[39m\u001b[38;5;28;01mFalse\u001b[39;00m\n\u001b[1;32m    240\u001b[0m )\n\u001b[1;32m    241\u001b[0m check_y_params \u001b[38;5;241m=\u001b[39m \u001b[38;5;28mdict\u001b[39m(ensure_2d\u001b[38;5;241m=\u001b[39m\u001b[38;5;28;01mFalse\u001b[39;00m, dtype\u001b[38;5;241m=\u001b[39m\u001b[38;5;28;01mNone\u001b[39;00m)\n\u001b[0;32m--> 242\u001b[0m X, y \u001b[38;5;241m=\u001b[39m \u001b[38;5;28;43mself\u001b[39;49m\u001b[38;5;241;43m.\u001b[39;49m\u001b[43m_validate_data\u001b[49m\u001b[43m(\u001b[49m\n\u001b[1;32m    243\u001b[0m \u001b[43m    \u001b[49m\u001b[43mX\u001b[49m\u001b[43m,\u001b[49m\u001b[43m \u001b[49m\u001b[43my\u001b[49m\u001b[43m,\u001b[49m\u001b[43m \u001b[49m\u001b[43mvalidate_separately\u001b[49m\u001b[38;5;241;43m=\u001b[39;49m\u001b[43m(\u001b[49m\u001b[43mcheck_X_params\u001b[49m\u001b[43m,\u001b[49m\u001b[43m \u001b[49m\u001b[43mcheck_y_params\u001b[49m\u001b[43m)\u001b[49m\n\u001b[1;32m    244\u001b[0m \u001b[43m\u001b[49m\u001b[43m)\u001b[49m\n\u001b[1;32m    246\u001b[0m missing_values_in_feature_mask \u001b[38;5;241m=\u001b[39m (\n\u001b[1;32m    247\u001b[0m     \u001b[38;5;28mself\u001b[39m\u001b[38;5;241m.\u001b[39m_compute_missing_values_in_feature_mask(X)\n\u001b[1;32m    248\u001b[0m )\n\u001b[1;32m    249\u001b[0m \u001b[38;5;28;01mif\u001b[39;00m issparse(X):\n",
      "File \u001b[0;32m/opt/homebrew/Caskroom/miniforge/base/envs/stats/lib/python3.11/site-packages/sklearn/base.py:617\u001b[0m, in \u001b[0;36mBaseEstimator._validate_data\u001b[0;34m(self, X, y, reset, validate_separately, cast_to_ndarray, **check_params)\u001b[0m\n\u001b[1;32m    615\u001b[0m \u001b[38;5;28;01mif\u001b[39;00m \u001b[38;5;124m\"\u001b[39m\u001b[38;5;124mestimator\u001b[39m\u001b[38;5;124m\"\u001b[39m \u001b[38;5;129;01mnot\u001b[39;00m \u001b[38;5;129;01min\u001b[39;00m check_X_params:\n\u001b[1;32m    616\u001b[0m     check_X_params \u001b[38;5;241m=\u001b[39m {\u001b[38;5;241m*\u001b[39m\u001b[38;5;241m*\u001b[39mdefault_check_params, \u001b[38;5;241m*\u001b[39m\u001b[38;5;241m*\u001b[39mcheck_X_params}\n\u001b[0;32m--> 617\u001b[0m X \u001b[38;5;241m=\u001b[39m \u001b[43mcheck_array\u001b[49m\u001b[43m(\u001b[49m\u001b[43mX\u001b[49m\u001b[43m,\u001b[49m\u001b[43m \u001b[49m\u001b[43minput_name\u001b[49m\u001b[38;5;241;43m=\u001b[39;49m\u001b[38;5;124;43m\"\u001b[39;49m\u001b[38;5;124;43mX\u001b[39;49m\u001b[38;5;124;43m\"\u001b[39;49m\u001b[43m,\u001b[49m\u001b[43m \u001b[49m\u001b[38;5;241;43m*\u001b[39;49m\u001b[38;5;241;43m*\u001b[39;49m\u001b[43mcheck_X_params\u001b[49m\u001b[43m)\u001b[49m\n\u001b[1;32m    618\u001b[0m \u001b[38;5;28;01mif\u001b[39;00m \u001b[38;5;124m\"\u001b[39m\u001b[38;5;124mestimator\u001b[39m\u001b[38;5;124m\"\u001b[39m \u001b[38;5;129;01mnot\u001b[39;00m \u001b[38;5;129;01min\u001b[39;00m check_y_params:\n\u001b[1;32m    619\u001b[0m     check_y_params \u001b[38;5;241m=\u001b[39m {\u001b[38;5;241m*\u001b[39m\u001b[38;5;241m*\u001b[39mdefault_check_params, \u001b[38;5;241m*\u001b[39m\u001b[38;5;241m*\u001b[39mcheck_y_params}\n",
      "File \u001b[0;32m/opt/homebrew/Caskroom/miniforge/base/envs/stats/lib/python3.11/site-packages/sklearn/utils/validation.py:967\u001b[0m, in \u001b[0;36mcheck_array\u001b[0;34m(array, accept_sparse, accept_large_sparse, dtype, order, copy, force_all_finite, ensure_2d, allow_nd, ensure_min_samples, ensure_min_features, estimator, input_name)\u001b[0m\n\u001b[1;32m    965\u001b[0m     n_samples \u001b[38;5;241m=\u001b[39m _num_samples(array)\n\u001b[1;32m    966\u001b[0m     \u001b[38;5;28;01mif\u001b[39;00m n_samples \u001b[38;5;241m<\u001b[39m ensure_min_samples:\n\u001b[0;32m--> 967\u001b[0m         \u001b[38;5;28;01mraise\u001b[39;00m \u001b[38;5;167;01mValueError\u001b[39;00m(\n\u001b[1;32m    968\u001b[0m             \u001b[38;5;124m\"\u001b[39m\u001b[38;5;124mFound array with \u001b[39m\u001b[38;5;132;01m%d\u001b[39;00m\u001b[38;5;124m sample(s) (shape=\u001b[39m\u001b[38;5;132;01m%s\u001b[39;00m\u001b[38;5;124m) while a\u001b[39m\u001b[38;5;124m\"\u001b[39m\n\u001b[1;32m    969\u001b[0m             \u001b[38;5;124m\"\u001b[39m\u001b[38;5;124m minimum of \u001b[39m\u001b[38;5;132;01m%d\u001b[39;00m\u001b[38;5;124m is required\u001b[39m\u001b[38;5;132;01m%s\u001b[39;00m\u001b[38;5;124m.\u001b[39m\u001b[38;5;124m\"\u001b[39m\n\u001b[1;32m    970\u001b[0m             \u001b[38;5;241m%\u001b[39m (n_samples, array\u001b[38;5;241m.\u001b[39mshape, ensure_min_samples, context)\n\u001b[1;32m    971\u001b[0m         )\n\u001b[1;32m    973\u001b[0m \u001b[38;5;28;01mif\u001b[39;00m ensure_min_features \u001b[38;5;241m>\u001b[39m \u001b[38;5;241m0\u001b[39m \u001b[38;5;129;01mand\u001b[39;00m array\u001b[38;5;241m.\u001b[39mndim \u001b[38;5;241m==\u001b[39m \u001b[38;5;241m2\u001b[39m:\n\u001b[1;32m    974\u001b[0m     n_features \u001b[38;5;241m=\u001b[39m array\u001b[38;5;241m.\u001b[39mshape[\u001b[38;5;241m1\u001b[39m]\n",
      "\u001b[0;31mValueError\u001b[0m: Found array with 0 sample(s) (shape=(0, 5)) while a minimum of 1 is required by DecisionTreeRegressor."
     ]
    }
   ],
   "source": [
    "out = RF_complete(data_t, data_s_list, feature_t)"
   ]
  },
  {
   "cell_type": "code",
   "execution_count": 20,
   "id": "33ce5d0b",
   "metadata": {},
   "outputs": [
    {
     "ename": "NameError",
     "evalue": "name 'colnames' is not defined",
     "output_type": "error",
     "traceback": [
      "\u001b[0;31m---------------------------------------------------------------------------\u001b[0m",
      "\u001b[0;31mNameError\u001b[0m                                 Traceback (most recent call last)",
      "Cell \u001b[0;32mIn[20], line 23\u001b[0m\n\u001b[1;32m     17\u001b[0m y_pred \u001b[38;5;241m=\u001b[39m results[\u001b[38;5;124m'\u001b[39m\u001b[38;5;124mpredictions\u001b[39m\u001b[38;5;124m'\u001b[39m]\n\u001b[1;32m     19\u001b[0m \u001b[38;5;66;03m# Calculate RMSE\u001b[39;00m\n\u001b[1;32m     20\u001b[0m \u001b[38;5;66;03m# rmse = np.sqrt(mean_squared_error(y_train, y_pred))\u001b[39;00m\n\u001b[1;32m     21\u001b[0m \n\u001b[1;32m     22\u001b[0m \u001b[38;5;66;03m# Plot the predicted values against the true values\u001b[39;00m\n\u001b[0;32m---> 23\u001b[0m plt\u001b[38;5;241m.\u001b[39mscatter(X_train[:, np\u001b[38;5;241m.\u001b[39mwhere(np\u001b[38;5;241m.\u001b[39marray(\u001b[43mcolnames\u001b[49m(data_t)) \u001b[38;5;241m==\u001b[39m feature_t)[\u001b[38;5;241m0\u001b[39m][\u001b[38;5;241m0\u001b[39m]], np\u001b[38;5;241m.\u001b[39mlog10(y_pred), label\u001b[38;5;241m=\u001b[39m\u001b[38;5;124m\"\u001b[39m\u001b[38;5;124mPredicted Values\u001b[39m\u001b[38;5;124m\"\u001b[39m)\n\u001b[1;32m     24\u001b[0m plt\u001b[38;5;241m.\u001b[39mxlabel(\u001b[38;5;124m\"\u001b[39m\u001b[38;5;124mlog10(HAI Measurements)\u001b[39m\u001b[38;5;124m\"\u001b[39m)\n\u001b[1;32m     25\u001b[0m plt\u001b[38;5;241m.\u001b[39mylabel(\u001b[38;5;124m\"\u001b[39m\u001b[38;5;124mlog10(Predicted Values)\u001b[39m\u001b[38;5;124m\"\u001b[39m)\n",
      "\u001b[0;31mNameError\u001b[0m: name 'colnames' is not defined"
     ]
    }
   ],
   "source": [
    "import numpy as np\n",
    "import matplotlib.pyplot as plt\n",
    "from sklearn.ensemble import RandomForestRegressor\n",
    "from sklearn.metrics import mean_squared_error\n",
    "\n",
    "# Assuming 'data.t' is your training data, 'data.s.list' is your list of features, and 'feature.t' is your target feature.\n",
    "\n",
    "# Define your features and target\n",
    "X_train = data_t\n",
    "y_train = data_s_list[0][feature_t]\n",
    "\n",
    "# Initialize and fit the Random Forest model\n",
    "# rf = RandomForestRegressor()\n",
    "# rf.fit(X_train, y_train)\n",
    "\n",
    "# Predict on the training data\n",
    "y_pred = results['predictions']\n",
    "\n",
    "# Calculate RMSE\n",
    "# rmse = np.sqrt(mean_squared_error(y_train, y_pred))\n",
    "\n",
    "# Plot the predicted values against the true values\n",
    "plt.scatter(X_train[:, np.where(np.array(data_t[feature_t])[0][0]], np.log10(y_pred), label=\"Predicted Values\")\n",
    "plt.xlabel(\"log10(HAI Measurements)\")\n",
    "plt.ylabel(\"log10(Predicted Values)\")\n",
    "\n",
    "# Add error bars from predicted RMSE (in log10 scale)\n",
    "plt.errorbar(X_train[:, np.where(np.array(colnames(data_t)) == feature_t)[0][0]], np.log10(y_pred),\n",
    "             yerr=np.log10(rmse), fmt='o', capsize=5, label=\"Error Bars\")\n",
    "\n",
    "# Actual prediction error (as n-folds)\n",
    "# actual_error = 10 ** np.sqrt(np.mean((np.log10(y_train) - np.log10(y_pred)) ** 2))\n",
    "print(\"Actual Prediction Error (as n-folds):\", actual_error)\n",
    "\n",
    "# Predicted error (as n-folds)\n",
    "predicted_error = 10 ** (np.std(np.log10(y_train) - np.log10(y_pred)))\n",
    "print(\"Predicted Error (as n-folds):\", predicted_error)\n",
    "\n",
    "# Show the plot\n",
    "plt.legend()\n",
    "plt.show()\n"
   ]
  },
  {
   "cell_type": "code",
   "execution_count": null,
   "id": "6d9faa3c",
   "metadata": {},
   "outputs": [],
   "source": []
  }
 ],
 "metadata": {
  "kernelspec": {
   "display_name": "stats",
   "language": "python",
   "name": "stats"
  },
  "language_info": {
   "codemirror_mode": {
    "name": "ipython",
    "version": 3
   },
   "file_extension": ".py",
   "mimetype": "text/x-python",
   "name": "python",
   "nbconvert_exporter": "python",
   "pygments_lexer": "ipython3",
   "version": "3.11.5"
  },
  "toc": {
   "base_numbering": 1,
   "nav_menu": {},
   "number_sections": true,
   "sideBar": true,
   "skip_h1_title": false,
   "title_cell": "Table of Contents",
   "title_sidebar": "Contents",
   "toc_cell": false,
   "toc_position": {},
   "toc_section_display": true,
   "toc_window_display": false
  },
  "varInspector": {
   "cols": {
    "lenName": 16,
    "lenType": 16,
    "lenVar": 40
   },
   "kernels_config": {
    "python": {
     "delete_cmd_postfix": "",
     "delete_cmd_prefix": "del ",
     "library": "var_list.py",
     "varRefreshCmd": "print(var_dic_list())"
    },
    "r": {
     "delete_cmd_postfix": ") ",
     "delete_cmd_prefix": "rm(",
     "library": "var_list.r",
     "varRefreshCmd": "cat(var_dic_list()) "
    }
   },
   "oldHeight": 501.65,
   "position": {
    "height": "401.65px",
    "left": "161px",
    "right": "20px",
    "top": "244px",
    "width": "712.2px"
   },
   "types_to_exclude": [
    "module",
    "function",
    "builtin_function_or_method",
    "instance",
    "_Feature"
   ],
   "varInspector_section_display": "block",
   "window_display": false
  }
 },
 "nbformat": 4,
 "nbformat_minor": 5
}
