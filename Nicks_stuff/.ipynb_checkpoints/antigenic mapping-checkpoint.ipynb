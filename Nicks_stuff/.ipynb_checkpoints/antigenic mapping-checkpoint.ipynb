{
 "cells": [
  {
   "cell_type": "code",
   "execution_count": 3,
   "id": "752d135d",
   "metadata": {},
   "outputs": [
    {
     "name": "stderr",
     "output_type": "stream",
     "text": [
      "also installing the dependencies ‘misc3d’, ‘jquerylib’, ‘memoise’, ‘sass’, ‘highr’, ‘xfun’, ‘stringr’, ‘tinytex’, ‘FNN’, ‘kernlab’, ‘KernSmooth’, ‘mclust’, ‘multicool’, ‘mvtnorm’, ‘plot3D’, ‘pracma’, ‘httpuv’, ‘mime’, ‘xtable’, ‘fontawesome’, ‘htmltools’, ‘sourcetools’, ‘later’, ‘promises’, ‘fastmap’, ‘commonmark’, ‘bslib’, ‘cachem’, ‘fs’, ‘knitr’, ‘rmarkdown’, ‘yaml’, ‘cpp11’, ‘generics’, ‘tidyselect’, ‘Rcpp’, ‘ks’, ‘brotli’, ‘shiny’, ‘shinyFiles’, ‘shinyjs’, ‘htmlwidgets’, ‘rmarchingcubes’, ‘shape’, ‘igraph’, ‘dplyr’, ‘RcppArmadillo’, ‘RcppProgress’, ‘RcppEnsmallen’, ‘rapidjsonr’\n",
      "\n",
      "\n",
      "Warning message in install.packages(\"Racmacs\"):\n",
      "“installation of package ‘misc3d’ had non-zero exit status”\n",
      "Warning message in install.packages(\"Racmacs\"):\n",
      "“installation of package ‘plot3D’ had non-zero exit status”\n",
      "Warning message in install.packages(\"Racmacs\"):\n",
      "“installation of package ‘ks’ had non-zero exit status”\n",
      "Warning message in install.packages(\"Racmacs\"):\n",
      "“installation of package ‘Racmacs’ had non-zero exit status”\n",
      "Updating HTML index of packages in '.Library'\n",
      "\n",
      "Making 'packages.html' ...\n",
      " done\n",
      "\n"
     ]
    }
   ],
   "source": [
    "install.packages(\"Racmacs\")\n"
   ]
  },
  {
   "cell_type": "code",
   "execution_count": 2,
   "id": "e2dcf76e",
   "metadata": {},
   "outputs": [
    {
     "name": "stderr",
     "output_type": "stream",
     "text": [
      "also installing the dependencies ‘nlme’, ‘Matrix’, ‘farver’, ‘labeling’, ‘munsell’, ‘R6’, ‘RColorBrewer’, ‘viridisLite’, ‘magrittr’, ‘pillar’, ‘pkgconfig’, ‘cli’, ‘lifecycle’, ‘gtable’, ‘isoband’, ‘MASS’, ‘mgcv’, ‘rlang’, ‘scales’, ‘tibble’, ‘vctrs’, ‘withr’\n",
      "\n",
      "\n",
      "Updating HTML index of packages in '.Library'\n",
      "\n",
      "Making 'packages.html' ...\n",
      " done\n",
      "\n"
     ]
    }
   ],
   "source": [
    "install.packages(\"ggplot2\")"
   ]
  },
  {
   "cell_type": "code",
   "execution_count": null,
   "id": "19d5dea3",
   "metadata": {},
   "outputs": [],
   "source": []
  }
 ],
 "metadata": {
  "kernelspec": {
   "display_name": "R",
   "language": "R",
   "name": "ir"
  },
  "language_info": {
   "codemirror_mode": "r",
   "file_extension": ".r",
   "mimetype": "text/x-r-source",
   "name": "R",
   "pygments_lexer": "r",
   "version": "4.2.3"
  },
  "toc": {
   "base_numbering": 1,
   "nav_menu": {},
   "number_sections": true,
   "sideBar": true,
   "skip_h1_title": false,
   "title_cell": "Table of Contents",
   "title_sidebar": "Contents",
   "toc_cell": false,
   "toc_position": {},
   "toc_section_display": true,
   "toc_window_display": false
  },
  "varInspector": {
   "cols": {
    "lenName": 16,
    "lenType": 16,
    "lenVar": 40
   },
   "kernels_config": {
    "python": {
     "delete_cmd_postfix": "",
     "delete_cmd_prefix": "del ",
     "library": "var_list.py",
     "varRefreshCmd": "print(var_dic_list())"
    },
    "r": {
     "delete_cmd_postfix": ") ",
     "delete_cmd_prefix": "rm(",
     "library": "var_list.r",
     "varRefreshCmd": "cat(var_dic_list()) "
    }
   },
   "types_to_exclude": [
    "module",
    "function",
    "builtin_function_or_method",
    "instance",
    "_Feature"
   ],
   "window_display": false
  }
 },
 "nbformat": 4,
 "nbformat_minor": 5
}
